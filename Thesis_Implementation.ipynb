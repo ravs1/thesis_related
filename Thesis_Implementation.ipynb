{
 "cells": [
  {
   "cell_type": "code",
   "execution_count": null,
   "metadata": {
    "collapsed": true
   },
   "outputs": [],
   "source": [
    "##########################################Loading Data################################################################"
   ]
  },
  {
   "cell_type": "code",
   "execution_count": 33,
   "metadata": {
    "collapsed": true
   },
   "outputs": [],
   "source": [
    "#importing libraries \n",
    "from sklearn.ensemble import RandomForestClassifier\n",
    "\n",
    "from sklearn.model_selection import train_test_split\n",
    "from sklearn.metrics import confusion_matrix\n",
    "import pandas as pd\n",
    "import numpy as np\n",
    "import nltk\n",
    "import string\n",
    "import matplotlib.pyplot as plt \n",
    "import seaborn as sns\n",
    "from sklearn.feature_extraction.text import TfidfTransformer\n",
    "from sklearn.feature_extraction.text import TfidfVectorizer\n",
    "from sklearn.feature_extraction.text import CountVectorizer\n",
    "from sklearn import metrics\n",
    "from sklearn.metrics import confusion_matrix\n",
    "from sklearn.metrics import roc_curve,auc\n",
    "from sklearn.cluster import KMeans\n",
    "from nltk.stem.porter import PorterStemmer \n",
    "\n",
    "import re \n",
    "import string \n",
    "from nltk.corpus import stopwords\n",
    "from nltk.stem import PorterStemmer \n",
    "from nltk.stem.wordnet import WordNetLemmatizer \n",
    "import pickle"
   ]
  },
  {
   "cell_type": "code",
   "execution_count": 34,
   "metadata": {
    "collapsed": true
   },
   "outputs": [],
   "source": [
    "#using the mythril python library for disassembly \n",
    "#https://github.com/ConsenSys/mythril\n",
    "#takes bytecode and ouputs machine level opcodes \n",
    "\n",
    "from mythril.ether import asm,util\n",
    "import os\n",
    "import json\n",
    "import logging\n",
    "\n",
    "\n",
    "class Disassembly:\n",
    "\n",
    "    def __init__(self, code):\n",
    "        self.instruction_list = asm.disassemble(util.safe_decode(code))\n",
    "        self.xrefs = []\n",
    "        self.func_to_addr = {}\n",
    "        self.addr_to_func = {}\n",
    "\n",
    "        try:\n",
    "            mythril_dir = os.environ['MYTHRIL_DIR']\n",
    "        except KeyError:\n",
    "            mythril_dir = os.path.join(os.path.expanduser('~'), \".mythril\")\n",
    "\n",
    "        # Load function signatures\n",
    "\n",
    "        signatures_file = os.path.join(mythril_dir, 'signatures.json')\n",
    "\n",
    "        if not os.path.exists(signatures_file):\n",
    "            logging.info(\"Missing function signature file. Resolving of function names disabled.\")\n",
    "            signatures = {}\n",
    "        else:\n",
    "            with open(signatures_file) as f:\n",
    "                signatures = json.load(f)\n",
    "\n",
    "        # Parse jump table & resolve function names\n",
    "\n",
    "        jmptable_indices = asm.find_opcode_sequence([\"PUSH4\", \"EQ\"], self.instruction_list)\n",
    "\n",
    "        for i in jmptable_indices:\n",
    "            func_hash = self.instruction_list[i]['argument']\n",
    "            try:\n",
    "                func_name = signatures[func_hash]\n",
    "            except KeyError:\n",
    "                func_name = \"_function_\" + func_hash\n",
    "\n",
    "            try:\n",
    "                offset = self.instruction_list[i+2]['argument']\n",
    "                jump_target = int(offset, 16)\n",
    "\n",
    "                self.func_to_addr[func_name] = jump_target\n",
    "                self.addr_to_func[jump_target] = func_name\n",
    "            except:\n",
    "                continue\n",
    "\n",
    "\n",
    "\n",
    "    def get_easm(self):\n",
    "\n",
    "        return asm.instruction_list_to_easm(self.instruction_list)"
   ]
  },
  {
   "cell_type": "code",
   "execution_count": 35,
   "metadata": {
    "collapsed": true
   },
   "outputs": [],
   "source": [
    "#source Ethereum yellow paper \n",
    "EVM_OPCODE_SET = {'STOP', 'ADD', 'MUL', 'SUB', 'DIV', 'SDIV', 'MOD', 'SMOD', 'ADDMOD', 'MULMOD', 'EXP', 'SIGNEXTEND',\n",
    "                 'LT','GT', 'SLT', 'SGT', 'EQ', 'ISZERO', 'AND', 'OR', 'XOR', 'NOT', 'BYTE','SHA3',\n",
    "                 'ADDRESS', 'BALANCE', 'ORIGIN', 'CALLER', 'CALLVALUE', 'CALLDATALOAD', 'CALLDATASIZE', 'CALLDATACOPY', \n",
    "                  'CODESIZE', 'CODECOPY', 'GASPRICE','EXTCODESIZE','EXTCODECOPY', 'RETURNDATASIZE', 'RETURNDATACOPY',\n",
    "                 'BLOCKHASH', 'COINBASE', 'TIMESTAMP', 'NUMBER', 'DIFFICULTY', 'GASLIMIT','POP','MLOAD', 'MSTORE', 'MSTORE8'\n",
    "                 'SLOAD', 'SSTORE', 'JUMP', 'JUMPI', 'PC', 'MSIZE', 'GAS', 'JUMPDEST','PUSH1','PUSH2','PUSH3','PUSH4',\n",
    "                  'PUSH5','PUSH6','PUSH7','PUSH8','PUSH9','PUSH10','PUSH11','PUSH12','PUSH13','PUSH14','PUSH15','PUSH16',\n",
    "                 'PUSH17','PUSH18','PUSH19','PUSH20','PUSH21','PUSH22','PUSH23','PUSH24','PUSH25','PUSH26','PUSH27',\n",
    "                 'PUSH28','PUSH29','PUSH30','PUSH31','PUSH32','DUP1','DUP2','DUP3','DUP4','DUP5','DUP6','DUP7','DUP8','DUP9',\n",
    "                 'DUP10','DUP11','DUP12','DUP13','DUP14','DUP15','DUP16','DUP17','DUP18','SWAP1','SWAP2','SWAP3','SWAP4',\n",
    "                 'SWAP5','SWAP6','SWAP7','SWAP8','SWAP9','SWAP10','SWAP11','SWAP12','SWAP13','SWAP14','SWAP15','SWAP16',\n",
    "                 'LOG0','LOG1','LOG2','LOG3','LOG4','CREATE', 'CAL', 'CALLCODE','RETURN','DELEGATECALL' ,'STATICCALL','REVERT', \n",
    "                  'INVALID','SELFDESTRUCT'}"
   ]
  },
  {
   "cell_type": "code",
   "execution_count": 36,
   "metadata": {
    "collapsed": true
   },
   "outputs": [],
   "source": [
    "#######################################################################################################################\n",
    "######################################################ORIGNAL_DATA#####################################################\n",
    "#######################################################################################################################"
   ]
  },
  {
   "cell_type": "code",
   "execution_count": 37,
   "metadata": {
    "collapsed": true
   },
   "outputs": [],
   "source": [
    "#loading data\n",
    "df = pd.read_csv('/Users/ravishaggarwal/Desktop/contracts.csv',sep = ',')"
   ]
  },
  {
   "cell_type": "code",
   "execution_count": 38,
   "metadata": {},
   "outputs": [],
   "source": [
    "#bytecodes that are to be translated to opcodes \n",
    "bytecode = df['result.code']"
   ]
  },
  {
   "cell_type": "code",
   "execution_count": 39,
   "metadata": {},
   "outputs": [
    {
     "ename": "KeyboardInterrupt",
     "evalue": "",
     "output_type": "error",
     "traceback": [
      "\u001b[0;31m---------------------------------------------------------------------------\u001b[0m",
      "\u001b[0;31mKeyboardInterrupt\u001b[0m                         Traceback (most recent call last)",
      "\u001b[0;32m<ipython-input-39-23a4ae539bac>\u001b[0m in \u001b[0;36m<module>\u001b[0;34m()\u001b[0m\n\u001b[1;32m      1\u001b[0m \u001b[0;31m#getting the list of opcodes translated from bytecodes\u001b[0m\u001b[0;34m\u001b[0m\u001b[0;34m\u001b[0m\u001b[0m\n\u001b[0;32m----> 2\u001b[0;31m \u001b[0mopcode\u001b[0m \u001b[0;34m=\u001b[0m \u001b[0;34m(\u001b[0m\u001b[0mlist\u001b[0m\u001b[0;34m(\u001b[0m\u001b[0mmap\u001b[0m\u001b[0;34m(\u001b[0m\u001b[0;32mlambda\u001b[0m \u001b[0mx\u001b[0m\u001b[0;34m:\u001b[0m \u001b[0mDisassembly\u001b[0m\u001b[0;34m(\u001b[0m\u001b[0mx\u001b[0m\u001b[0;34m)\u001b[0m\u001b[0;34m.\u001b[0m\u001b[0mget_easm\u001b[0m\u001b[0;34m(\u001b[0m\u001b[0;34m)\u001b[0m\u001b[0;34m,\u001b[0m\u001b[0mbytecode\u001b[0m\u001b[0;34m)\u001b[0m\u001b[0;34m)\u001b[0m\u001b[0;34m)\u001b[0m\u001b[0;34m\u001b[0m\u001b[0m\n\u001b[0m",
      "\u001b[0;32m<ipython-input-39-23a4ae539bac>\u001b[0m in \u001b[0;36m<lambda>\u001b[0;34m(x)\u001b[0m\n\u001b[1;32m      1\u001b[0m \u001b[0;31m#getting the list of opcodes translated from bytecodes\u001b[0m\u001b[0;34m\u001b[0m\u001b[0;34m\u001b[0m\u001b[0m\n\u001b[0;32m----> 2\u001b[0;31m \u001b[0mopcode\u001b[0m \u001b[0;34m=\u001b[0m \u001b[0;34m(\u001b[0m\u001b[0mlist\u001b[0m\u001b[0;34m(\u001b[0m\u001b[0mmap\u001b[0m\u001b[0;34m(\u001b[0m\u001b[0;32mlambda\u001b[0m \u001b[0mx\u001b[0m\u001b[0;34m:\u001b[0m \u001b[0mDisassembly\u001b[0m\u001b[0;34m(\u001b[0m\u001b[0mx\u001b[0m\u001b[0;34m)\u001b[0m\u001b[0;34m.\u001b[0m\u001b[0mget_easm\u001b[0m\u001b[0;34m(\u001b[0m\u001b[0;34m)\u001b[0m\u001b[0;34m,\u001b[0m\u001b[0mbytecode\u001b[0m\u001b[0;34m)\u001b[0m\u001b[0;34m)\u001b[0m\u001b[0;34m)\u001b[0m\u001b[0;34m\u001b[0m\u001b[0m\n\u001b[0m",
      "\u001b[0;32m<ipython-input-34-426b94799637>\u001b[0m in \u001b[0;36mget_easm\u001b[0;34m(self)\u001b[0m\n\u001b[1;32m     57\u001b[0m     \u001b[0;32mdef\u001b[0m \u001b[0mget_easm\u001b[0m\u001b[0;34m(\u001b[0m\u001b[0mself\u001b[0m\u001b[0;34m)\u001b[0m\u001b[0;34m:\u001b[0m\u001b[0;34m\u001b[0m\u001b[0m\n\u001b[1;32m     58\u001b[0m \u001b[0;34m\u001b[0m\u001b[0m\n\u001b[0;32m---> 59\u001b[0;31m         \u001b[0;32mreturn\u001b[0m \u001b[0masm\u001b[0m\u001b[0;34m.\u001b[0m\u001b[0minstruction_list_to_easm\u001b[0m\u001b[0;34m(\u001b[0m\u001b[0mself\u001b[0m\u001b[0;34m.\u001b[0m\u001b[0minstruction_list\u001b[0m\u001b[0;34m)\u001b[0m\u001b[0;34m\u001b[0m\u001b[0m\n\u001b[0m",
      "\u001b[0;32m/anaconda3/lib/python3.6/site-packages/mythril/ether/asm.py\u001b[0m in \u001b[0;36minstruction_list_to_easm\u001b[0;34m(instruction_list)\u001b[0m\n\u001b[1;32m     15\u001b[0m     \u001b[0;32mfor\u001b[0m \u001b[0minstruction\u001b[0m \u001b[0;32min\u001b[0m \u001b[0minstruction_list\u001b[0m\u001b[0;34m:\u001b[0m\u001b[0;34m\u001b[0m\u001b[0m\n\u001b[1;32m     16\u001b[0m \u001b[0;34m\u001b[0m\u001b[0m\n\u001b[0;32m---> 17\u001b[0;31m         \u001b[0measm\u001b[0m \u001b[0;34m+=\u001b[0m \u001b[0mstr\u001b[0m\u001b[0;34m(\u001b[0m\u001b[0minstruction\u001b[0m\u001b[0;34m[\u001b[0m\u001b[0;34m'address'\u001b[0m\u001b[0;34m]\u001b[0m\u001b[0;34m)\u001b[0m \u001b[0;34m+\u001b[0m \u001b[0;34m\" \"\u001b[0m \u001b[0;34m+\u001b[0m \u001b[0minstruction\u001b[0m\u001b[0;34m[\u001b[0m\u001b[0;34m'opcode'\u001b[0m\u001b[0;34m]\u001b[0m\u001b[0;34m\u001b[0m\u001b[0m\n\u001b[0m\u001b[1;32m     18\u001b[0m \u001b[0;34m\u001b[0m\u001b[0m\n\u001b[1;32m     19\u001b[0m         \u001b[0;32mif\u001b[0m \u001b[0;34m'argument'\u001b[0m \u001b[0;32min\u001b[0m \u001b[0minstruction\u001b[0m\u001b[0;34m:\u001b[0m\u001b[0;34m\u001b[0m\u001b[0m\n",
      "\u001b[0;31mKeyboardInterrupt\u001b[0m: "
     ]
    }
   ],
   "source": [
    "#getting the list of opcodes translated from bytecodes \n",
    "opcode = (list(map(lambda x: Disassembly(x).get_easm(),bytecode)))"
   ]
  },
  {
   "cell_type": "code",
   "execution_count": null,
   "metadata": {},
   "outputs": [],
   "source": [
    "#converting opcodes list to dataframe\n",
    "opcode_df = pd.DataFrame(opcode)"
   ]
  },
  {
   "cell_type": "code",
   "execution_count": null,
   "metadata": {},
   "outputs": [],
   "source": [
    "#naming the opcodes dataframe\n",
    "opcode_df.columns = ['opcode']"
   ]
  },
  {
   "cell_type": "code",
   "execution_count": null,
   "metadata": {},
   "outputs": [],
   "source": [
    "#adding the opcodes data frame into the original data frame \n",
    "df['opcode'] = opcode_df"
   ]
  },
  {
   "cell_type": "code",
   "execution_count": null,
   "metadata": {},
   "outputs": [],
   "source": [
    "#selecting the bytecode and the translated opcodes \n",
    "new_df = df[df.columns[3:]]\n",
    "#new_df = df.columns['result.code','opcode']"
   ]
  },
  {
   "cell_type": "code",
   "execution_count": null,
   "metadata": {},
   "outputs": [],
   "source": [
    "#new_df is the new dataframe consist of translated opcodes \n",
    "new_df.head(5)"
   ]
  },
  {
   "cell_type": "code",
   "execution_count": 40,
   "metadata": {},
   "outputs": [],
   "source": [
    "#################################################CSV_WRITE############################################################\n",
    "#writing the result into the csv file for future usage\n",
    "#new_df.to_csv('new_data.csv', encoding='utf-8', index=False)"
   ]
  },
  {
   "cell_type": "code",
   "execution_count": 41,
   "metadata": {
    "collapsed": true
   },
   "outputs": [],
   "source": [
    "#clean the text from the punctuations \n",
    "def cleanpunc(sentence):\n",
    "    cleaned = re.sub(r'[?|!|\\'|\"|#|{|}]',r'',str(sentence))\n",
    "    cleaned = re.sub(r'[.|,|)|(|\\|/]',r'',cleaned)\n",
    "    return cleaned"
   ]
  },
  {
   "cell_type": "code",
   "execution_count": 62,
   "metadata": {},
   "outputs": [],
   "source": [
    "import sys\n",
    "import csv\n",
    "\n",
    "csv.field_size_limit(sys.maxsize)\n",
    "with open('/Users/ravishaggarwal/Desktop/new_data.csv') as input_file, open('/Users/ravishaggarwal/Desktop/clean_ops.csv', 'w') as output_file:\n",
    "    r = csv.reader(input_file)\n",
    "    row = next(r)\n",
    "    counter = 0\n",
    "    str1 = ''\n",
    "    i = 0\n",
    "    final_string = []\n",
    "    for row in r:\n",
    "        var1 = row[1].split()\n",
    "        #print(var1)\n",
    "        #counter = counter + 1\n",
    "        #print(counter)\n",
    "        #print(var1)\n",
    "        a = set(var1)&EVM_OPCODE_SET\n",
    "        #b = list(a)\n",
    "        \n",
    "        #print(b)\n",
    "        #print(a,file = output_file)\n",
    "        \n",
    "                    \n",
    "                    \n",
    "        \n",
    "                \n",
    "            \n",
    "            #print(sent)\n",
    "            \n",
    "        c = cleanpunc(a)\n",
    "        print(''.join(c),file = output_file)\n",
    "        \n",
    "        #print(a)\n",
    "        #print(b,file = output_file)\n",
    "        #output_file.write(a)\n",
    "        #counter = counter + 1\n",
    "        #print(counter)\n",
    "        \n",
    "            \n",
    "        #for i in var1:\n",
    "            #print(i)\n",
    "            #if(i in EVM_OPCODE_SET):\n",
    "                #output_file.write(i)"
   ]
  },
  {
   "cell_type": "code",
   "execution_count": 48,
   "metadata": {},
   "outputs": [],
   "source": [
    "#checking rows in csv \n",
    "#with open('/Users/ravishaggarwal/Desktop/new_data.csv') as file:\n",
    "#    r = csv.reader(file)\n",
    "#    row_count = sum(1 for row in r)"
   ]
  },
  {
   "cell_type": "code",
   "execution_count": 67,
   "metadata": {},
   "outputs": [],
   "source": [
    "#bigrams matrix\n",
    "import csv\n",
    "import nltk\n",
    "from collections import Counter\n",
    "fo = open(\"/Users/ravishaggarwal/Desktop/clean_ops.csv\")\n",
    "fo1 = fo.readlines()\n",
    "counter_sum = Counter()\n",
    "for line in fo1:\n",
    "    #tokens = nltk.word_tokenize(line)\n",
    "    bigrams = list(nltk.bigrams(line.split()))\n",
    "    bigramsC = Counter(bigrams)\n",
    "    #tokensC = Counter(tokens)\n",
    "    #both_counters = bigramsC + tokensC\n",
    "    counter_sum += bigramsC\n",
    "    #print(tokensC)\n",
    "with open('/Users/ravishaggarwal/Desktop/unigrams_and_bigrams.csv', 'w', newline='') as csvfile:\n",
    "    header = sorted(counter_sum, key=lambda x: str(type(x)))\n",
    "    writer = csv.DictWriter(csvfile, fieldnames=header)\n",
    "    writer.writeheader()\n",
    "    for line in fo1:\n",
    "          #tokens = nltk.word_tokenize(line)\n",
    "          bigrams = list(nltk.bigrams(line.split()))\n",
    "          bigramsC = Counter(bigrams)\n",
    "          #tokensC = Counter(tokens)\n",
    "          #both_counters = bigramsC + tokensC\n",
    "          cs = dict(counter_sum)\n",
    "          bc = dict(bigramsC)\n",
    "          row = {}\n",
    "          for element in list(cs):\n",
    "                if element in list(bc):\n",
    "                  row[element] = bc[element]\n",
    "                else:\n",
    "                  row[element] = 0\n",
    "          writer.writerow(row)\n",
    "    "
   ]
  },
  {
   "cell_type": "code",
   "execution_count": 83,
   "metadata": {},
   "outputs": [],
   "source": [
    "import csv\n",
    "with open(\"/Users/ravishaggarwal/Desktop/unigrams_and_bigrams.csv\", \"r\") as f:\n",
    "    reader = csv.DictReader(f)\n",
    "    fieldnames = reader.fieldnames\n",
    "    row_count = sum(1 for row in reader)"
   ]
  },
  {
   "cell_type": "code",
   "execution_count": 84,
   "metadata": {},
   "outputs": [
    {
     "data": {
      "text/plain": [
       "1457"
      ]
     },
     "execution_count": 84,
     "metadata": {},
     "output_type": "execute_result"
    }
   ],
   "source": [
    "fieldnames"
   ]
  },
  {
   "cell_type": "code",
   "execution_count": 85,
   "metadata": {},
   "outputs": [
    {
     "data": {
      "text/plain": [
       "4675929"
      ]
     },
     "execution_count": 85,
     "metadata": {},
     "output_type": "execute_result"
    }
   ],
   "source": [
    "row_count"
   ]
  },
  {
   "cell_type": "code",
   "execution_count": 89,
   "metadata": {},
   "outputs": [
    {
     "name": "stdout",
     "output_type": "stream",
     "text": [
      "[\"('PUSH2', 'CALLDATACOPY')\", \"('CALLDATACOPY', 'CALLDATASIZE')\", \"('CALLDATASIZE', 'SUB')\", \"('SUB', 'DUP1')\", \"('DUP1', 'RETURN')\", \"('RETURN', 'CALLVALUE')\", \"('CALLVALUE', 'CALLCODE')\", \"('CALLCODE', 'GAS')\", \"('GAS', 'PUSH1')\", \"('PUSH1', 'PUSH20')\", \"('PUSH32', 'CALLER')\", \"('CALLER', 'SWAP4')\", \"('SWAP4', 'RETURN')\", \"('RETURN', 'STOP')\", \"('STOP', 'DUP6')\", \"('DUP6', 'OR')\", \"('OR', 'LOG1')\", \"('LOG1', 'CODECOPY')\", \"('CODECOPY', 'PUSH23')\", \"('PUSH23', 'JUMPI')\", \"('JUMPI', 'PUSH4')\", \"('PUSH4', 'DUP7')\", \"('DUP7', 'DUP1')\", \"('DUP1', 'JUMPDEST')\", \"('JUMPDEST', 'DUP3')\", \"('DUP3', 'DUP2')\", \"('DUP2', 'DUP8')\", \"('DUP8', 'DUP5')\", \"('DUP5', 'POP')\", \"('POP', 'PUSH1')\", \"('PUSH1', 'CALLDATALOAD')\", \"('CALLDATALOAD', 'DUP9')\", \"('DUP9', 'JUMP')\", \"('JUMP', 'CALLDATASIZE')\", \"('SUB', 'EQ')\", \"('EQ', 'NOT')\", \"('NOT', 'EXP')\", \"('EXP', 'GT')\", \"('GT', 'ADD')\", \"('ADD', 'ISZERO')\", \"('ISZERO', 'STATICCALL')\", \"('STATICCALL', 'SSTORE')\", \"('SSTORE', 'SWAP3')\", \"('SWAP3', 'DIV')\", \"('DIV', 'PUSH2')\", \"('PUSH2', 'MSTORE')\", \"('MSTORE', 'SWAP1')\", \"('SWAP1', 'AND')\", \"('AND', 'INVALID')\", \"('INVALID', 'SHA3')\", \"('SHA3', 'MLOAD')\", \"('MLOAD', 'DUP4')\", \"('DUP4', 'SWAP2')\", \"('SWAP2', 'DUP10')\", \"('DUP10', 'LT')\", \"('PUSH32', 'SWAP4')\", \"('DUP6', 'LOG1')\", \"('LOG1', 'JUMPI')\", \"('JUMPI', 'SWAP6')\", \"('SWAP6', 'PUSH4')\", \"('DUP1', 'MUL')\", \"('MUL', 'JUMPDEST')\", \"('DUP2', 'SWAP5')\", \"('SWAP5', 'DUP8')\", \"('JUMP', 'CALLDATACOPY')\", \"('CALLDATACOPY', 'SUB')\", \"('NOT', 'SWAP8')\", \"('SWAP8', 'EXP')\", \"('ISZERO', 'SSTORE')\", \"('AND', 'SWAP9')\", \"('SWAP9', 'SHA3')\", \"('DUP6', 'JUMPI')\", \"('SSTORE', 'LOG2')\", \"('LOG2', 'SWAP3')\", \"('CALLER', 'RETURN')\", \"('STOP', 'JUMPI')\", \"('PUSH4', 'DUP1')\", \"('DUP2', 'DUP5')\", \"('PUSH20', 'CALLDATALOAD')\", \"('CALLDATALOAD', 'JUMP')\", \"('JUMP', 'SUB')\", \"('EXP', 'PUSH29')\", \"('PUSH29', 'GT')\", \"('GT', 'ISZERO')\", \"('ISZERO', 'ADD')\", \"('ADD', 'SWAP3')\", \"('AND', 'SHA3')\", \"('STOP', 'LOG1')\", \"('PUSH4', 'LOG0')\", \"('LOG0', 'DUP1')\", \"('EQ', 'EXP')\", \"('PUSH29', 'ADD')\", \"('SSTORE', 'DIV')\", \"('DUP13', 'PUSH32')\", \"('OR', 'SWAP7')\", \"('SWAP7', 'PUSH22')\", \"('PUSH22', 'JUMPI')\", \"('DUP7', 'DUP12')\", \"('DUP12', 'DUP14')\", \"('DUP14', 'PUSH6')\", \"('PUSH6', 'DUP1')\", \"('SWAP5', 'CALLVALUE')\", \"('CALLVALUE', 'DUP8')\", \"('CALLDATACOPY', 'DUP15')\", \"('DUP15', 'SUB')\", \"('SUB', 'CALLDATASIZE')\", \"('CALLDATASIZE', 'PUSH7')\", \"('PUSH7', 'EQ')\", \"('EXP', 'DUP11')\", \"('DUP11', 'GT')\", \"('SSTORE', 'GAS')\", \"('GAS', 'SWAP3')\", \"('SWAP1', 'PUSH26')\", \"('PUSH26', 'PUSH3')\", \"('PUSH3', 'AND')\", \"('DUP4', 'TIMESTAMP')\", \"('TIMESTAMP', 'SWAP2')\", \"('CALLER', 'SLT')\", \"('SLT', 'SWAP4')\", \"('STOP', 'OR')\", \"('OR', 'CODECOPY')\", \"('CODECOPY', 'PUSH22')\", \"('PUSH4', 'DUP12')\", \"('DUP12', 'DUP1')\", \"('EXP', 'ADD')\", \"('ADD', 'GT')\", \"('SSTORE', 'STATICCALL')\", \"('STATICCALL', 'SWAP3')\", \"('SWAP1', 'PUSH3')\", \"('SHA3', 'CALLCODE')\", \"('CALLCODE', 'MLOAD')\", \"('DUP4', 'BLOCKHASH')\", \"('BLOCKHASH', 'SWAP2')\", \"('SWAP2', 'LT')\", \"('OR', 'JUMPI')\", \"('ADD', 'SSTORE')\", \"('SWAP7', 'LOG1')\", \"('JUMPI', 'PUSH9')\", \"('PUSH9', 'SWAP6')\", \"('DUP7', 'LOG3')\", \"('LOG3', 'DUP1')\", \"('SUB', 'PUSH8')\", \"('PUSH8', 'EQ')\", \"('SWAP9', 'INVALID')\", \"('DIV', 'MSTORE')\", \"('SHA3', 'SWAP2')\", \"('EQ', 'PUSH29')\", \"('DUP2', 'POP')\", \"('ADD', 'DIV')\", \"('SWAP1', 'MLOAD')\", \"('MLOAD', 'SWAP2')\", \"('RETURN', 'ISZERO')\", \"('ISZERO', 'CALLVALUE')\", \"('PUSH20', 'JUMPI')\", \"('CALLER', 'ADDRESS')\", \"('ADDRESS', 'SWAP4')\", \"('DUP8', 'PUSH21')\", \"('PUSH21', 'DUP5')\", \"('DUP5', 'NUMBER')\", \"('NUMBER', 'POP')\", \"('CALLCODE', 'BALANCE')\", \"('BALANCE', 'MLOAD')\", \"('PUSH4', 'LOG3')\", \"('SUB', 'SWAP10')\", \"('SWAP10', 'PUSH8')\", \"('SWAP1', 'SWAP11')\", \"('SWAP11', 'AND')\", \"('SWAP2', 'BLOCKHASH')\", \"('BLOCKHASH', 'DUP10')\", \"('DUP6', 'MOD')\", \"('MOD', 'OR')\", \"('SWAP6', 'XOR')\", \"('XOR', 'PUSH4')\", \"('DUP7', 'PUSH6')\", \"('SUB', 'PUSH7')\", \"('PUSH7', 'PUSH8')\", \"('SSTORE', 'PUSH24')\", \"('PUSH24', 'GAS')\", \"('GAS', 'COINBASE')\", \"('COINBASE', 'SWAP3')\", \"('AND', 'PUSH28')\", \"('PUSH28', 'SWAP9')\", \"('SHA3', 'BALANCE')\", \"('BALANCE', 'PUSH13')\", \"('PUSH13', 'MLOAD')\", \"('BLOCKHASH', 'LT')\", \"('DUP6', 'CODESIZE')\", \"('CODESIZE', 'OR')\", \"('CODECOPY', 'JUMPI')\", \"('SWAP5', 'GASLIMIT')\", \"('GASLIMIT', 'DUP8')\", \"('GAS', 'PUSH16')\", \"('PUSH16', 'SWAP3')\", \"('SHA3', 'PUSH13')\", \"('AND', 'MLOAD')\", \"('SWAP5', 'DUP5')\", \"('MSTORE', 'JUMP')\", \"('JUMP', 'DIV')\", \"('DIV', 'EQ')\", \"('EQ', 'STOP')\", \"('STOP', 'JUMPDEST')\", \"('DUP3', 'DUP6')\", \"('DUP6', 'DUP2')\", \"('DUP2', 'EXP')\", \"('EXP', 'DUP9')\", \"('DUP9', 'AND')\", \"('AND', 'POP')\", \"('POP', 'DUP4')\", \"('DUP4', 'PUSH1')\", \"('JUMPI', 'CALLDATALOAD')\", \"('CALLDATALOAD', 'PUSH4')\", \"('MOD', 'CODESIZE')\", \"('SWAP7', 'CODECOPY')\", \"('CALLDATALOAD', 'BYTE')\", \"('BYTE', 'DUP9')\", \"('DUP9', 'CALLDATACOPY')\", \"('SUB', 'JUMP')\", \"('JUMP', 'SWAP10')\", \"('SWAP10', 'EQ')\", \"('SSTORE', 'PUSH16')\", \"('ADDRESS', 'RETURN')\", \"('EXP', 'ISZERO')\", \"('ISZERO', 'GAS')\", \"('GAS', 'SSTORE')\", \"('DUP7', 'PUSH25')\", \"('PUSH25', 'DUP1')\", \"('PUSH8', 'PUSH30')\", \"('PUSH30', 'EQ')\", \"('EQ', 'PUSH17')\", \"('PUSH17', 'NOT')\", \"('PUSH29', 'DUP11')\", \"('DUP2', 'CALLVALUE')\", \"('CALLVALUE', 'DUP5')\", \"('ISZERO', 'LOG2')\", \"('LOG2', 'SSTORE')\", \"('SWAP7', 'JUMPI')\", \"('SWAP4', 'STOP')\", \"('AND', 'BALANCE')\", \"('MOD', 'SWAP7')\", \"('PUSH13', 'DUP4')\", \"('BLOCKHASH', 'TIMESTAMP')\", \"('DUP14', 'DUP1')\", \"('SWAP10', 'CALLDATASIZE')\", \"('DUP16', 'DUP13')\", \"('DUP13', 'SWAP16')\", \"('SWAP16', 'PUSH32')\", \"('RETURN', 'SDIV')\", \"('SDIV', 'STOP')\", \"('DUP12', 'SWAP15')\", \"('SWAP15', 'DUP14')\", \"('DUP14', 'LOG3')\", \"('PUSH1', 'SGT')\", \"('SGT', 'SWAP12')\", \"('SWAP12', 'CALLDATALOAD')\", \"('CALLDATALOAD', 'SWAP13')\", \"('SWAP13', 'CALLDATACOPY')\", \"('SUB', 'DUP9')\", \"('DUP9', 'CALLDATASIZE')\", \"('CALLDATASIZE', 'SWAP14')\", \"('SWAP14', 'JUMP')\", \"('SWAP11', 'PUSH3')\", \"('CALLVALUE', 'POP')\", \"('GAS', 'DIV')\", \"('POP', 'LOG4')\", \"('LOG4', 'PUSH1')\", \"('LT', 'ORIGIN')\", \"('ISZERO', 'DIV')\", \"('RETURN', 'PUSH5')\", \"('PUSH5', 'STOP')\", \"('DUP12', 'PUSH6')\", \"('SWAP11', 'PUSH26')\", \"('PUSH26', 'AND')\", \"('SHA3', 'PUSH12')\", \"('PUSH12', 'MLOAD')\", \"('DUP6', 'GASPRICE')\", \"('GASPRICE', 'OR')\", \"('BYTE', 'SWAP13')\", \"('JUMP', 'MSIZE')\", \"('MSIZE', 'PUSH8')\", \"('CALLVALUE', 'GASLIMIT')\", \"('GASLIMIT', 'DUP5')\", \"('INVALID', 'MLOAD')\", \"('JUMPI', 'DUP1')\", \"('PUSH20', 'JUMP')\", \"('SUB', 'ADD')\", \"('SWAP3', 'MSTORE')\", \"('PUSH29', 'LOG2')\", \"('LOG2', 'ADD')\", \"('LOG2', 'ISZERO')\", \"('ADD', 'GAS')\", \"('SHA3', 'DUP4')\", \"('DUP7', 'DUP14')\", \"('PUSH20', 'SGT')\", \"('SGT', 'CALLDATALOAD')\", \"('SUB', 'MSIZE')\", \"('MSIZE', 'EQ')\", \"('PUSH28', 'INVALID')\", \"('SWAP2', 'SIGNEXTEND')\", \"('SIGNEXTEND', 'LT')\", \"('CALLDATASIZE', 'EQ')\", \"('DIV', 'SWAP1')\", \"('SWAP1', 'MSTORE')\", \"('MSTORE', 'SHA3')\", \"('PUSH32', 'ADDRESS')\", \"('ADDRESS', 'CALLER')\", \"('SDIV', 'PUSH5')\", \"('PUSH5', 'DUP6')\", \"('MOD', 'GASPRICE')\", \"('PUSH9', 'PUSH4')\", \"('MUL', 'PUSH25')\", \"('PUSH25', 'JUMPDEST')\", \"('DUP8', 'CALLVALUE')\", \"('BYTE', 'JUMP')\", \"('PUSH7', 'MSIZE')\", \"('PUSH17', 'EXP')\", \"('PUSH3', 'SMOD')\", \"('SMOD', 'AND')\", \"('PUSH13', 'PUSH12')\", \"('JUMPDEST', 'DUP2')\", \"('DUP8', 'POP')\", \"('SSTORE', 'CALLDATASIZE')\", \"('CALLDATASIZE', 'MSTORE')\", \"('SWAP1', 'STOP')\", \"('PUSH1', 'ISZERO')\", \"('ISZERO', 'JUMPI')\", \"('JUMPI', 'ADD')\", \"('SWAP3', 'JUMP')\", \"('SWAP1', 'CALLER')\", \"('CALLER', 'JUMP')\", \"('JUMP', 'DUP1')\", \"('DUP1', 'EQ')\", \"('EQ', 'DIV')\", \"('DIV', 'RETURN')\", \"('RETURN', 'JUMPDEST')\", \"('DUP2', 'PUSH29')\", \"('PUSH29', 'POP')\", \"('POP', 'MLOAD')\", \"('MLOAD', 'PUSH1')\", \"('JUMPI', 'SSTORE')\", \"('SSTORE', 'CALLDATALOAD')\", \"('SWAP1', 'JUMP')\", \"('EQ', 'RETURN')\", \"('EXP', 'PUSH1')\", \"('PUSH1', 'JUMPI')\", \"('JUMP', 'EQ')\", \"('AND', 'DUP4')\", \"('STOP', 'CODESIZE')\", \"('DUP2', 'GASLIMIT')\", \"('ISZERO', 'GT')\", \"('GT', 'SSTORE')\", \"('PUSH2', 'PUSH15')\", \"('PUSH15', 'MSTORE')\", \"('CALLVALUE', 'CREATE')\", \"('CREATE', 'DUP5')\", \"('CALLER', 'STOP')\", \"('DUP3', 'POP')\", \"('GASLIMIT', 'CALLVALUE')\", \"('CALLVALUE', 'NUMBER')\", \"('DUP12', 'PUSH25')\", \"('PUSH20', 'SWAP12')\", \"('SWAP12', 'DUP9')\", \"('DUP9', 'CALLDATALOAD')\", \"('SWAP2', 'ORIGIN')\", \"('DUP5', 'PUSH1')\", \"('ISZERO', 'SWAP3')\", \"('MSTORE', 'STOP')\", \"('JUMPDEST', 'PUSH1')\", \"('JUMPI', 'JUMP')\", \"('DUP2', 'CREATE')\", \"('PUSH32', 'STOP')\", \"('EXP', 'GAS')\", \"('GAS', 'ISZERO')\", \"('DUP8', 'CREATE')\", \"('CREATE', 'POP')\", \"('SWAP2', 'MSTORE')\", \"('JUMPDEST', 'AND')\", \"('AND', 'DUP2')\", \"('DUP2', 'ISZERO')\", \"('ISZERO', 'EXP')\", \"('BALANCE', 'DUP4')\", \"('SWAP6', 'PUSH10')\", \"('PUSH10', 'PUSH4')\", \"('DUP2', 'PUSH1')\", \"('AND', 'SWAP2')\", \"('PUSH1', 'JUMP')\", \"('SWAP15', 'LOG3')\", \"('SWAP13', 'DUP15')\", \"('DUP15', 'DUP9')\", \"('DUP9', 'SUB')\", \"('DUP12', 'LOG0')\", \"('DUP6', 'RETURNDATACOPY')\", \"('RETURNDATACOPY', 'OR')\", \"('PUSH9', 'PUSH10')\", \"('PUSH4', 'PUSH6')\", \"('CALLVALUE', 'PUSH21')\", \"('SSTORE', 'PUSH14')\", \"('PUSH14', 'PUSH24')\", \"('PUSH24', 'COINBASE')\", \"('SWAP3', 'PUSH16')\", \"('PUSH16', 'PUSH2')\", \"('PUSH2', 'DIV')\", \"('DIV', 'PUSH15')\", \"('SWAP2', 'PUSH19')\", \"('PUSH19', 'LT')\", \"('SWAP1', 'DIV')\", \"('DIV', 'MUL')\", \"('MUL', 'EQ')\", \"('PUSH1', 'PUSH18')\", \"('PUSH18', 'SWAP12')\", \"('PUSH14', 'GAS')\", \"('SWAP9', 'PUSH13')\", \"('SLT', 'RETURN')\", \"('SDIV', 'DUP6')\", \"('PUSH8', 'MSIZE')\", \"('SWAP1', 'SHA3')\", \"('RETURN', 'JUMPI')\", \"('DUP13', 'CALLER')\", \"('DUP9', 'DUP15')\", \"('DUP15', 'CALLDATASIZE')\", \"('JUMP', 'PUSH7')\", \"('PUSH7', 'SWAP10')\", \"('LOG2', 'GAS')\", \"('RETURN', 'DUP6')\", \"('JUMPI', 'PUSH10')\", \"('CALLDATASIZE', 'JUMP')\", \"('PUSH29', 'ISZERO')\", \"('SUB', 'NOT')\", \"('PUSH32', 'RETURN')\", \"('CALLDATALOAD', 'SUB')\", \"('EXP', 'SWAP3')\", \"('AND', 'PUSH13')\", \"('DUP4', 'MLOAD')\", \"('STOP', 'PUSH1')\", \"('DIV', 'DUP1')\", \"('AND', 'PUSH12')\", \"('PUSH12', 'DUP4')\", \"('CALLDATASIZE', 'PUSH8')\", \"('SWAP9', 'BALANCE')\", \"('DUP8', 'NUMBER')\", \"('DUP9', 'SWAP13')\", \"('SWAP13', 'JUMP')\", \"('RETURN', 'NOT')\", \"('NOT', 'STOP')\", \"('PUSH1', 'NUMBER')\", \"('NUMBER', 'BLOCKHASH')\", \"('BLOCKHASH', 'ADD')\", \"('ADD', 'JUMPI')\", \"('DUP2', 'NUMBER')\", \"('NUMBER', 'PUSH1')\", \"('AND', 'BLOCKHASH')\", \"('DUP7', 'MULMOD')\", \"('MULMOD', 'DUP12')\", \"('DUP12', 'LOG3')\", \"('LOG3', 'PUSH6')\", \"('DUP1', 'DIFFICULTY')\", \"('DIFFICULTY', 'DUP3')\", \"('DUP2', 'JUMPDEST')\", \"('JUMPDEST', 'DUP8')\", \"('JUMP', 'DUP15')\", \"('LOG2', 'PUSH16')\", \"('CALLCODE', 'PUSH12')\", \"('SWAP14', 'SWAP10')\", \"('SWAP10', 'MSIZE')\", \"('MSTORE', 'CALLER')\", \"('CALLER', 'DIV')\", \"('ADDRESS', 'STOP')\", \"('STOP', 'MOD')\", \"('MOD', 'JUMPI')\", \"('AND', 'TIMESTAMP')\", \"('CALLDATACOPY', 'SWAP10')\", \"('SWAP10', 'SUB')\", \"('JUMP', 'DUP9')\", \"('PUSH20', 'BYTE')\", \"('BYTE', 'CALLDATALOAD')\", \"('DUP10', 'ORIGIN')\", \"('DUP6', 'SWAP7')\", \"('PUSH1', 'SWAP12')\", \"('CALLDATALOAD', 'DUP15')\", \"('DUP15', 'JUMP')\", \"('DUP11', 'ADD')\", \"('DUP6', 'CODECOPY')\", \"('MUL', 'DIFFICULTY')\", \"('JUMPDEST', 'DUP5')\", \"('ISZERO', 'PUSH16')\", \"('JUMPI', 'PUSH22')\", \"('PUSH22', 'SWAP6')\", \"('DUP7', 'RETURNDATASIZE')\", \"('RETURNDATASIZE', 'DUP1')\", \"('PUSH14', 'SWAP3')\", \"('INVALID', 'PUSH27')\", \"('PUSH27', 'SHA3')\", \"('RETURNDATASIZE', 'PUSH6')\", \"('PUSH20', 'PUSH18')\", \"('PUSH24', 'PUSH16')\", \"('SWAP1', 'PUSH11')\", \"('PUSH11', 'SWAP11')\", \"('PUSH18', 'CALLDATALOAD')\", \"('SWAP5', 'PUSH21')\", \"('DUP7', 'SWAP15')\", \"('SWAP15', 'DUP1')\", \"('MUL', 'EXTCODECOPY')\", \"('EXTCODECOPY', 'DIFFICULTY')\", \"('JUMPDEST', 'SWAP5')\", \"('PUSH20', 'DUP9')\", \"('EQ', 'ISZERO')\", \"('ISZERO', 'MSTORE')\", \"('MLOAD', 'TIMESTAMP')\", \"('CALLER', 'EQ')\", \"('EQ', 'JUMPDEST')\", \"('JUMPDEST', 'BLOCKHASH')\", \"('BLOCKHASH', 'PUSH1')\", \"('SSTORE', 'PUSH19')\", \"('PUSH19', 'CALLDATALOAD')\", \"('JUMPDEST', 'ISZERO')\", \"('ISZERO', 'BLOCKHASH')\", \"('SWAP5', 'POP')\", \"('JUMPI', 'DUP7')\", \"('DUP7', 'JUMPDEST')\", \"('SUB', 'ISZERO')\", \"('SWAP1', 'DUP4')\", \"('DUP7', 'MUL')\", \"('EXP', 'SSTORE')\", \"('SWAP10', 'CALLDATACOPY')\", \"('CALLDATALOAD', 'EXTCODESIZE')\", \"('EXTCODESIZE', 'DUP9')\", \"('CALLDATACOPY', 'REVERT')\", \"('REVERT', 'SUB')\", \"('AND', 'LT')\", \"('MULMOD', 'SWAP15')\", \"('SWAP15', 'PUSH6')\", \"('BALANCE', 'PUSH12')\", \"('EXP', 'SHA3')\", \"('SHA3', 'PUSH1')\", \"('DUP2', 'PUSH21')\", \"('SWAP9', 'PUSH27')\", \"('PUSH27', 'MLOAD')\", \"('CALLDATASIZE', 'SWAP10')\", \"('SUB', 'PUSH30')\", \"('SSTORE', 'COINBASE')\", \"('MSTORE', 'PUSH6')\", \"('PUSH6', 'POP')\", \"('PUSH24', 'SWAP3')\", \"('SIGNEXTEND', 'DUP10')\", \"('AND', 'CALLCODE')\", \"('SIGNEXTEND', 'ORIGIN')\", \"('CALLDATASIZE', 'PUSH32')\", \"('PUSH32', 'MSTORE')\", \"('SWAP1', 'DUP1')\", \"('DUP1', 'STOP')\", \"('DUP2', 'LOG1')\", \"('LOG1', 'PUSH1')\", \"('DUP9', 'EQ')\", \"('GASLIMIT', 'CREATE')\", \"('CREATE', 'DUP8')\", \"('POP', 'DUP5')\", \"('SUB', 'SWAP14')\", \"('EXP', 'LOG2')\", \"('LOG2', 'GT')\", \"('SSTORE', 'ADD')\", \"('AND', 'PUSH27')\", \"('PUSH30', 'MSIZE')\", \"('PUSH27', 'DUP4')\", \"('JUMPI', 'MUL')\", \"('MSTORE', 'AND')\", \"('EXP', 'DIV')\", \"('PUSH28', 'SHA3')\", \"('PUSH6', 'MUL')\", \"('MUL', 'DUP1')\", \"('STOP', 'AND')\", \"('JUMPDEST', 'EXP')\", \"('EXP', 'OR')\", \"('OR', 'PUSH1')\", \"('SWAP1', 'EQ')\", \"('EXP', 'POP')\", \"('JUMPI', 'LOG2')\", \"('LOG2', 'CALLDATALOAD')\", \"('LOG1', 'PUSH22')\", \"('PUSH8', 'SWAP10')\", \"('PUSH8', 'NOT')\", \"('NOT', 'GT')\", \"('SSTORE', 'MSTORE')\", \"('DIV', 'STOP')\", \"('AND', 'EXP')\", \"('EXP', 'PUSH20')\", \"('PUSH20', 'PUSH29')\", \"('PUSH20', 'EXTCODESIZE')\", \"('EXTCODESIZE', 'CALLDATALOAD')\", \"('SUB', 'EXP')\", \"('JUMPDEST', 'PUSH29')\", \"('ADD', 'CALLDATALOAD')\", \"('OR', 'PUSH22')\", \"('JUMP', 'PUSH8')\", \"('MSIZE', 'SWAP10')\", \"('DUP16', 'PUSH32')\", \"('CODESIZE', 'GASPRICE')\", \"('MSIZE', 'PUSH30')\", \"('SWAP1', 'PUSH19')\", \"('PUSH19', 'PUSH3')\", \"('PUSH22', 'PUSH9')\", \"('DUP16', 'CALLER')\", \"('MOD', 'PUSH23')\", \"('PUSH10', 'DUP14')\", \"('DUP14', 'MUL')\", \"('MUL', 'DUP3')\", \"('DUP3', 'NUMBER')\", \"('NUMBER', 'CALLDATALOAD')\", \"('CALLDATALOAD', 'SWAP12')\", \"('SWAP12', 'SWAP13')\", \"('SUB', 'REVERT')\", \"('REVERT', 'PUSH2')\", \"('BALANCE', 'TIMESTAMP')\", \"('LT', 'DUP13')\", \"('DUP13', 'CODECOPY')\", \"('CODECOPY', 'PUSH4')\", \"('PUSH6', 'SWAP5')\", \"('CALLVALUE', 'DUP9')\", \"('CALLDATASIZE', 'DUP11')\", \"('PUSH14', 'INVALID')\", \"('INVALID', 'PUSH13')\", \"('DUP4', 'PUSH19')\", \"('PUSH19', 'SWAP4')\", \"('SWAP4', 'DUP12')\", \"('DUP1', 'DUP2')\", \"('PUSH21', 'POP')\", \"('POP', 'PUSH20')\", \"('NOT', 'PUSH24')\", \"('SWAP3', 'PUSH3')\", \"('PUSH3', 'PUSH32')\", \"('PUSH32', 'PUSH5')\", \"('SWAP6', 'PUSH25')\", \"('PUSH1', 'SWAP10')\", \"('EQ', 'SWAP8')\", \"('EXP', 'PUSH16')\", \"('PUSH16', 'DIV')\", \"('DIV', 'SWAP11')\", \"('SWAP11', 'SHA3')\", \"('SHA3', 'BLOCKHASH')\", \"('CALLDATACOPY', 'JUMP')\", \"('SWAP9', 'MLOAD')\", \"('GASLIMIT', 'PUSH21')\", \"('PUSH21', 'CREATE')\", \"('LOG4', 'DUP5')\", \"('DUP5', 'PUSH20')\", \"('PUSH20', 'PUSH1')\", \"('PUSH4', 'JUMPDEST')\", \"('CALLDATASIZE', 'ISZERO')\", \"('SWAP3', 'SWAP1')\", \"('MSTORE', 'PUSH3')\", \"('MOD', 'LOG1')\", \"('JUMPDEST', 'GASLIMIT')\", \"('GAS', 'PUSH31')\", \"('PUSH31', 'SWAP3')\", \"('SWAP13', 'DUP9')\", \"('SWAP1', 'ADDMOD')\", \"('ADDMOD', 'AND')\", \"('GASLIMIT', 'POP')\", \"('SWAP7', 'PUSH23')\", \"('DUP4', 'LT')\", \"('PUSH7', 'PUSH30')\", \"('LOG0', 'DUP14')\", \"('SSTORE', 'PUSH31')\", \"('SWAP5', 'NUMBER')\", \"('JUMP', 'STOP')\", \"('CALLVALUE', 'AND')\", \"('JUMPI', 'DUP9')\", \"('DUP1', 'EXTCODECOPY')\", \"('EXTCODECOPY', 'JUMPDEST')\", \"('PUSH1', 'EXTCODESIZE')\", \"('EXTCODESIZE', 'JUMP')\", \"('JUMP', 'CALLDATALOAD')\", \"('BYTE', 'EXTCODESIZE')\", \"('JUMP', 'PUSH30')\", \"('JUMP', 'SWAP13')\", \"('SHA3', 'TIMESTAMP')\", \"('SWAP2', 'CALLDATASIZE')\", \"('PUSH32', 'SUB')\", \"('SUB', 'MSTORE')\", \"('LOG1', 'POP')\", \"('ADD', 'JUMP')\", \"('PUSH28', 'DUP4')\", \"('STOP', 'SWAP7')\", \"('PUSH3', 'ADDMOD')\", \"('INVALID', 'BALANCE')\", \"('PUSH11', 'AND')\", \"('CALLER', 'LOG3')\", \"('DUP1', 'JUMP')\", \"('EXP', 'SWAP1')\", \"('SWAP1', 'PUSH1')\", \"('CALLDATACOPY', 'DUP9')\", \"('PUSH14', 'PUSH16')\", \"('CALLVALUE', 'PUSH1')\", \"('GT', 'GAS')\", \"('DUP9', 'REVERT')\", \"('REVERT', 'CALLDATASIZE')\", \"('DUP13', 'SWAP4')\", \"('PUSH4', 'DUP14')\", \"('SIGNEXTEND', 'PUSH19')\", \"('SWAP3', 'PUSH2')\", \"('DUP7', 'LOG0')\", \"('DUP2', 'AND')\", \"('PUSH1', 'BYTE')\", \"('PUSH26', 'SMOD')\", \"('POP', 'DUP8')\", \"('JUMP', 'PUSH6')\", \"('PUSH6', 'DIV')\", \"('PUSH21', 'DUP8')\", \"('MLOAD', 'BLOCKHASH')\", \"('SWAP4', 'PUSH5')\", \"('ADDRESS', 'SLT')\", \"('PUSH32', 'SLT')\", \"('SWAP5', 'PUSH1')\", \"('DUP3', 'SWAP12')\", \"('SUB', 'PUSH17')\", \"('PUSH17', 'STATICCALL')\", \"('STATICCALL', 'PUSH2')\", \"('LT', 'CODESIZE')\", \"('CODESIZE', 'CODECOPY')\", \"('SWAP14', 'DUP11')\", \"('PUSH14', 'ADDMOD')\", \"('ADDMOD', 'INVALID')\", \"('PUSH3', 'ORIGIN')\", \"('ORIGIN', 'PUSH32')\", \"('SWAP6', 'SWAP15')\", \"('SWAP15', 'JUMPDEST')\", \"('PUSH15', 'SWAP11')\", \"('CALLCODE', 'BLOCKHASH')\", \"('EQ', 'ADD')\", \"('ADD', 'STOP')\", \"('SSTORE', 'LT')\", \"('LT', 'CALLDATALOAD')\", \"('ADD', 'LOG2')\", \"('GASLIMIT', 'NUMBER')\", \"('ISZERO', 'COINBASE')\", \"('COINBASE', 'DIV')\", \"('PUSH1', 'ADD')\", \"('SWAP13', 'REVERT')\", \"('REVERT', 'DUP9')\", \"('CALLDATALOAD', 'CALLDATACOPY')\", \"('LOG0', 'PUSH6')\", \"('PUSH16', 'PUSH31')\", \"('SUB', 'BYTE')\", \"('DUP9', 'SWAP14')\", \"('SWAP14', 'MSIZE')\", \"('MSIZE', 'JUMP')\", \"('NOT', 'SWAP10')\", \"('DIV', 'SWAP3')\", \"('MSTORE', 'SUB')\", \"('SUB', 'SWAP1')\", \"('SWAP13', 'BYTE')\", \"('SWAP10', 'PUSH30')\", \"('STOP', 'ADD')\", \"('PUSH22', 'PUSH23')\", \"('CALLCODE', 'PUSH13')\", \"('SWAP15', 'LOG0')\", \"('CALLDATACOPY', 'EQ')\", \"('PUSH20', 'SMOD')\", \"('SMOD', 'STOP')\", \"('STOP', 'SHA3')\", \"('JUMPI', 'XOR')\", \"('PUSH11', 'PUSH3')\", \"('DUP15', 'SWAP10')\", \"('CREATE', 'NUMBER')\", \"('SWAP1', 'SWAP2')\", \"('PUSH21', 'NUMBER')\", \"('EXP', 'CALLVALUE')\", \"('PC', 'PUSH32')\", \"('JUMPDEST', 'CALLVALUE')\", \"('EQ', 'GT')\", \"('PUSH3', 'MLOAD')\", \"('MLOAD', 'LT')\", \"('TIMESTAMP', 'LT')\", \"('STATICCALL', 'LOG2')\", \"('LOG2', 'DIV')\", \"('EXTCODESIZE', 'CALLDATACOPY')\", \"('CALLDATACOPY', 'MSTORE')\", \"('EXP', 'DUP5')\", \"('RETURN', 'PUSH3')\", \"('PUSH3', 'JUMPDEST')\", \"('SWAP1', 'DELEGATECALL')\", \"('DELEGATECALL', 'AND')\", \"('DELEGATECALL', 'SWAP11')\", \"('PUSH1', 'SHA3')\", \"('SHA3', 'ADD')\", \"('JUMPDEST', 'NOT')\", \"('NOT', 'DUP2')\", \"('SLT', 'CALLER')\", \"('PUSH4', 'MUL')\", \"('PUSH2', 'SMOD')\", \"('SMOD', 'BALANCE')\", \"('TIMESTAMP', 'ORIGIN')\", \"('PUSH1', 'DUP9')\", \"('SWAP1', 'SMOD')\", \"('JUMP', 'PUSH32')\", \"('PUSH32', 'DUP1')\", \"('EXP', 'LOG1')\", \"('PUSH4', 'PUSH25')\", \"('PUSH27', 'BALANCE')\", \"('BLOCKHASH', 'PUSH19')\", \"('STOP', 'GASPRICE')\", \"('GASPRICE', 'JUMPI')\", \"('SUB', 'EXTCODESIZE')\", \"('SWAP10', 'NOT')\", \"('NOT', 'EQ')\", \"('DUP13', 'PC')\", \"('SGT', 'PUSH18')\", \"('SUB', 'DELEGATECALL')\", \"('DELEGATECALL', 'DUP1')\", \"('LOG0', 'PUSH25')\", \"('MULMOD', 'DUP1')\", \"('PUSH26', 'ADDMOD')\", \"('OR', 'PUSH23')\", \"('JUMP', 'NOT')\", \"('SIGNEXTEND', 'BLOCKHASH')\", \"('PUSH9', 'XOR')\", \"('LOG4', 'PUSH20')\", \"('COINBASE', 'PUSH16')\", \"('SWAP4', 'SDIV')\", \"('SWAP1', 'INVALID')\", \"('RETURNDATASIZE', 'DUP14')\", \"('CODESIZE', 'RETURNDATACOPY')\", \"('DELEGATECALL', 'PUSH3')\", \"('ISZERO', 'PUSH24')\", \"('PUSH24', 'SSTORE')\", \"('PUSH12', 'PUSH13')\", \"('BLOCKHASH', 'ORIGIN')\", \"('PUSH4', 'MULMOD')\", \"('MULMOD', 'LOG0')\", \"('SGT', 'BYTE')\", \"('SUB', 'GAS')\", \"('ISZERO', 'PUSH2')\", \"('EQ', 'SWAP1')\", \"('SWAP1', 'RETURN')\", \"('PUSH22', 'PUSH4')\", \"('PUSH14', 'LOG2')\", \"('CALLDATASIZE', 'DUP1')\", \"('NOT', 'PUSH29')\", \"('SWAP1', 'SWAP9')\", \"('PUSH25', 'DIFFICULTY')\", \"('RETURNDATACOPY', 'GASPRICE')\", \"('PUSH4', 'SWAP15')\", \"('PUSH3', 'SHA3')\", \"('SWAP2', 'PUSH32')\", \"('SWAP1', 'MUL')\", \"('DUP12', 'RETURNDATASIZE')\", \"('ISZERO', 'PUSH31')\", \"('DUP4', 'ORIGIN')\", \"('MSTORE', 'JUMPDEST')\", \"('DUP11', 'SSTORE')\", \"('EXTCODECOPY', 'DUP1')\", \"('MSIZE', 'PUSH7')\", \"('SWAP2', 'SUB')\", \"('CALLER', 'SWAP1')\", \"('DIV', 'PUSH1')\", \"('GT', 'MSTORE')\", \"('SUB', 'LOG2')\", \"('LOG2', 'PUSH24')\", \"('DUP2', 'TIMESTAMP')\", \"('TIMESTAMP', 'EXP')\", \"('JUMPI', 'LT')\", \"('PUSH19', 'SWAP11')\", \"('PUSH3', 'PUSH26')\", \"('BYTE', 'CALLDATACOPY')\", \"('JUMP', 'REVERT')\", \"('SWAP9', 'PUSH12')\", \"('DUP16', 'PC')\", \"('PC', 'DUP13')\", \"('PC', 'CALLER')\", \"('DUP6', 'PUSH23')\", \"('PUSH17', 'PUSH2')\", \"('DUP13', 'CODESIZE')\", \"('DUP7', 'SWAP5')\", \"('CALLVALUE', 'EXTCODESIZE')\", \"('CALLDATASIZE', 'MSIZE')\", \"('MSIZE', 'DUP11')\", \"('PUSH14', 'PUSH11')\", \"('PUSH11', 'INVALID')\", \"('DUP4', 'SWAP4')\", \"('NOT', 'GAS')\", \"('PUSH12', 'TIMESTAMP')\", \"('SSTORE', 'INVALID')\", \"('LOG1', 'SWAP6')\", \"('SWAP6', 'JUMPDEST')\", \"('PUSH26', 'SHA3')\", \"('JUMPI', 'DUP14')\", \"('DUP3', 'CALLDATALOAD')\", \"('PUSH26', 'PUSH27')\", \"('SWAP11', 'PUSH27')\", \"('JUMPI', 'RETURNDATASIZE')\", \"('SUB', 'PUSH2')\", \"('PUSH10', 'RETURNDATASIZE')\", \"('CALLVALUE', 'PUSH18')\", \"('PUSH18', 'EXTCODESIZE')\", \"('PUSH29', 'DIV')\", \"('JUMPI', 'GT')\", \"('GT', 'JUMP')\", \"('JUMPDEST', 'GAS')\", \"('JUMPDEST', 'GASPRICE')\", \"('GASPRICE', 'PUSH1')\", \"('MSTORE', 'EQ')\", \"('EQ', 'PUSH5')\", \"('PUSH2', 'CALLDATASIZE')\", \"('JUMPDEST', 'MOD')\", \"('MOD', 'GAS')\", \"('PUSH3', 'EQ')\", \"('GT', 'DIV')\", \"('BALANCE', 'SWAP2')\", \"('PUSH24', 'PUSH31')\", \"('MSTORE', 'SWAP4')\", \"('SWAP4', 'JUMP')\", \"('AND', 'DUP3')\", \"('CALLVALUE', 'PUSH20')\", \"('PUSH20', 'POP')\", \"('PUSH11', 'PUSH26')\", \"('GAS', 'PUSH2')\", \"('ADDRESS', 'JUMPI')\", \"('PUSH2', 'SWAP1')\", \"('MSTORE', 'BALANCE')\", \"('MSTORE', 'DIV')\", \"('COINBASE', 'PUSH31')\", \"('SWAP1', 'ADDRESS')\", \"('ADDRESS', 'DIV')\", \"('EXP', 'BALANCE')\", \"('BALANCE', 'PUSH1')\", \"('JUMPDEST', 'POP')\", \"('LOG1', 'PUSH9')\", \"('SSTORE', 'PUSH11')\", \"('SUB', 'CALLER')\", \"('RETURN', 'OR')\", \"('PUSH30', 'NOT')\", \"('CALLDATACOPY', 'BYTE')\", \"('BYTE', 'SUB')\", \"('NOT', 'PUSH30')\", \"('MOD', 'RETURNDATACOPY')\", \"('SWAP14', 'EQ')\", \"('PUSH19', 'AND')\", \"('CALLDATACOPY', 'CALLDATALOAD')\", \"('MSTORE', 'PUSH11')\", \"('PUSH11', 'JUMP')\", \"('CALLDATALOAD', 'JUMPI')\", \"('PUSH19', 'PUSH26')\", \"('ISZERO', 'PUSH14')\", \"('PUSH14', 'SSTORE')\", \"('INVALID', 'CALLCODE')\", \"('PUSH31', 'COINBASE')\", \"('DUP8', 'EXP')\", \"('DELEGATECALL', 'PUSH26')\", \"('EXTCODECOPY', 'PUSH25')\", \"('SDIV', 'JUMPI')\", \"('SDIV', 'LOG1')\", \"('PUSH2', 'PUSH16')\", \"('SWAP1', 'PUSH15')\", \"('PUSH15', 'PUSH26')\", \"('BYTE', 'DUP15')\", \"('PUSH21', 'PUSH1')\", \"('SMOD', 'SHA3')\", \"('DUP15', 'EXTCODESIZE')\", \"('EXTCODESIZE', 'SUB')\", \"('EXP', 'MLOAD')\", \"('XOR', 'DUP7')\", \"('CALLVALUE', 'PUSH29')\", \"('CALLDATACOPY', 'EXTCODESIZE')\", \"('DUP1', 'SWAP2')\", \"('SWAP2', 'STOP')\", \"('LOG1', 'MLOAD')\", \"('SWAP5', 'CREATE')\", \"('EXTCODESIZE', 'SWAP13')\", \"('CALLVALUE', 'SGT')\", \"('PUSH18', 'BYTE')\", \"('SWAP15', 'PUSH25')\", \"('PUSH15', 'PUSH27')\", \"('LOG3', 'MUL')\", \"('NUMBER', 'SWAP12')\", \"('SUB', 'STATICCALL')\", \"('SWAP9', 'TIMESTAMP')\", \"('SWAP5', 'BYTE')\", \"('LOG2', 'INVALID')\", \"('LOG4', 'JUMP')\", \"('NOT', 'SWAP3')\", \"('SWAP3', 'DELEGATECALL')\", \"('PUSH11', 'DELEGATECALL')\", \"('DIV', 'PUSH26')\", \"('PUSH3', 'SWAP11')\", \"('DUP14', 'PUSH25')\", \"('PUSH28', 'MLOAD')\", \"('AND', 'ISZERO')\", \"('JUMPI', 'DIV')\", \"('DIV', 'JUMP')\", \"('PC', 'ADDRESS')\", \"('RETURNDATACOPY', 'PUSH23')\", \"('REVERT', 'PUSH17')\", \"('STATICCALL', 'PUSH31')\", \"('PUSH31', 'PUSH2')\", \"('SWAP16', 'CODESIZE')\", \"('PUSH6', 'EXTCODECOPY')\", \"('EXTCODECOPY', 'SWAP5')\", \"('LOG2', 'PUSH11')\", \"('PUSH11', 'SMOD')\", \"('SMOD', 'ADDMOD')\", \"('SDIV', 'XOR')\", \"('XOR', 'MULMOD')\", \"('PUSH29', 'PUSH16')\", \"('SWAP16', 'SWAP4')\", \"('PUSH1', 'MSTORE')\", \"('JUMPDEST', 'JUMP')\", \"('DELEGATECALL', 'ADDRESS')\", \"('ADDRESS', 'DUP1')\", \"('PUSH1', 'GAS')\", \"('GAS', 'JUMP')\", \"('PUSH1', 'TIMESTAMP')\", \"('TIMESTAMP', 'JUMPI')\", \"('PUSH2', 'SUB')\", \"('EQ', 'EXTCODECOPY')\", \"('PUSH20', 'PUSH13')\", \"('PUSH13', 'GAS')\", \"('GAS', 'POP')\", \"('MLOAD', 'ADD')\", \"('XOR', 'EXTCODESIZE')\", \"('XOR', 'DIV')\", \"('RETURN', 'CODESIZE')\", \"('CODESIZE', 'LOG1')\", \"('MSTORE', 'ADDRESS')\", \"('JUMPDEST', 'CODESIZE')\", \"('CODESIZE', 'DUP2')\", \"('JUMPI', 'EXTCODESIZE')\", \"('SWAP8', 'PUSH29')\", \"('SWAP11', 'ADDMOD')\", \"('PUSH31', 'DIV')\", \"('SWAP16', 'CALLER')\", \"('STOP', 'CODECOPY')\", \"('MSTORE', 'DELEGATECALL')\", \"('DELEGATECALL', 'STOP')\", \"('MOD', 'PUSH13')\", \"('PUSH13', 'NUMBER')\", \"('GAS', 'JUMPI')\", \"('JUMPI', 'BLOCKHASH')\", \"('BLOCKHASH', 'EXTCODESIZE')\", \"('ISZERO', 'SWAP5')\", \"('SWAP5', 'PUSH13')\", \"('PUSH13', 'POP')\", \"('ADD', 'XOR')\", \"('LOG0', 'EXTCODECOPY')\", \"('DELEGATECALL', 'ORIGIN')\", \"('DUP16', 'ADDRESS')\", \"('XOR', 'DUP1')\", \"('PUSH20', 'MSIZE')\", \"('ADD', 'PUSH24')\", \"('PUSH24', 'ISZERO')\", \"('INVALID', 'SWAP9')\", \"('DUP2', 'MOD')\", \"('MOD', 'PUSH1')\", \"('PUSH1', 'PUSH13')\", \"('POP', 'ADD')\", \"('ADD', 'BLOCKHASH')\", \"('BLOCKHASH', 'JUMPI')\", \"('PUSH1', 'JUMPDEST')\", \"('JUMPDEST', 'EXTCODESIZE')\", \"('GAS', 'EXTCODESIZE')\", \"('PUSH15', 'SUB')\", \"('SUB', 'DIV')\", \"('DIV', 'JUMPDEST')\", \"('PUSH19', 'EXTCODESIZE')\", \"('PUSH11', 'PUSH19')\", \"('GASPRICE', 'CODECOPY')\", \"('PUSH14', 'COINBASE')\", \"('LOG2', 'PUSH31')\", \"('PUSH20', 'BALANCE')\", \"('BALANCE', 'JUMPDEST')\", \"('PUSH29', 'GAS')\", \"('MSTORE', 'SMOD')\", \"('SMOD', 'BLOCKHASH')\", \"('BLOCKHASH', 'DUP4')\", \"('PUSH2', 'SSTORE')\", \"('DUP2', 'GAS')\", \"('ADD', 'LT')\", \"('LT', 'JUMP')\", \"('DUP1', 'GAS')\", \"('ADDRESS', 'EQ')\", \"('ISZERO', 'PUSH20')\", \"('JUMPI', 'ORIGIN')\", \"('PUSH11', 'SHA3')\", \"('DUP1', 'PUSH20')\", \"('PUSH20', 'GAS')\", \"('POP', 'EXTCODESIZE')\", \"('PUSH2', 'DELEGATECALL')\", \"('DUP1', 'DUP6')\", \"('DUP6', 'ISZERO')\", \"('ISZERO', 'PUSH1')\", \"('DUP1', 'ISZERO')\", \"('EXP', 'GASPRICE')\", \"('MSTORE', 'PUSH32')\", \"('DUP1', 'PUSH3')\", \"('DUP8', 'PUSH1')\", \"('PUSH1', 'CREATE')\", \"('PUSH32', 'JUMPI')\", \"('PUSH1', 'SUB')\", \"('PUSH3', 'PUSH13')\", \"('PUSH13', 'BLOCKHASH')\", \"('CALLDATALOAD', 'PUSH1')\", \"('MSTORE', 'DUP1')\", \"('JUMPDEST', 'DUP6')\", \"('PUSH20', 'ADD')\", \"('SWAP1', 'PUSH13')\", \"('PUSH19', 'DELEGATECALL')\", \"('PUSH22', 'PUSH10')\", \"('PUSH1', 'PUSH16')\", \"('PUSH16', 'JUMP')\", \"('PUSH3', 'DUP1')\", \"('POP', 'PUSH16')\", \"('PUSH1', 'BALANCE')\", \"('BALANCE', 'POP')\", \"('CALLVALUE', 'LOG1')\", \"('RETURN', 'CODECOPY')\", \"('DELEGATECALL', 'RETURN')\", \"('CALLVALUE', 'GAS')\", \"('ADD', 'PUSH16')\", \"('AND', 'PUSH29')\", \"('PUSH1', 'PUSH21')\", \"('PUSH21', 'PUSH10')\", \"('PUSH10', 'JUMPI')\", \"('MULMOD', 'MUL')\", \"('SHA3', 'LT')\", \"('SWAP4', 'CALLER')\", \"('PUSH21', 'PUSH29')\", \"('RETURN', 'LOG1')\", \"('PUSH31', 'GAS')\", \"('PUSH5', 'CODESIZE')\", \"('LOG2', 'COINBASE')\", \"('SLT', 'JUMPI')\", \"('MSTORE', 'MLOAD')\", \"('POP', 'INVALID')\", \"('INVALID', 'PUSH1')\", \"('PUSH2', 'PUSH32')\", \"('PUSH32', 'SWAP1')\", \"('DUP1', 'MSIZE')\", \"('MSIZE', 'RETURN')\", \"('SDIV', 'JUMPDEST')\", \"('DUP2', 'INVALID')\", \"('CREATE', 'PUSH13')\", \"('POP', 'CODECOPY')\", \"('CODECOPY', 'JUMP')\", \"('PUSH1', 'POP')\", \"('EQ', 'MSIZE')\", \"('MSIZE', 'NOT')\", \"('MSTORE', 'DUP4')\", \"('MSTORE', 'SWAP2')\", \"('CALLER', 'JUMPDEST')\", \"('AND', 'CALLVALUE')\", \"('SLT', 'DUP6')\", \"('EXTCODESIZE', 'DUP15')\", \"('RETURNDATASIZE', 'MUL')\", \"('LT', 'CODECOPY')\", \"('PUSH10', 'MUL')\", \"('SWAP12', 'EXTCODESIZE')\", \"('CODESIZE', 'PUSH1')\", \"('CREATE', 'PUSH29')\", \"('DUP15', 'BYTE')\", \"('PUSH1', 'RETURN')\", \"('CALLVALUE', 'MLOAD')\", \"('CODECOPY', 'ISZERO')\", \"('PUSH2', 'PUSH1')\", \"('PUSH1', 'STOP')\", \"('PUSH2', 'RETURN')\", \"('PUSH1', 'CODECOPY')\", \"('SWAP10', 'PUSH17')\", \"('MSIZE', 'STOP')\", \"('NOT', 'CREATE')\", \"('CREATE', 'PUSH14')\", \"('PUSH14', 'POP')\", \"('POP', 'GAS')\", \"('DUP7', 'PUSH2')\", \"('SWAP2', 'MSIZE')\", \"('ADDRESS', 'JUMP')\", \"('CODECOPY', 'RETURN')\", \"('RETURN', 'PUSH1')\", \"('RETURN', 'INVALID')\", \"('MULMOD', 'RETURNDATASIZE')\", \"('GASPRICE', 'PUSH22')\", \"('SWAP15', 'MUL')\", \"('DIFFICULTY', 'DUP2')\", \"('SGT', 'JUMP')\", \"('SWAP10', 'REVERT')\", \"('PUSH30', 'PUSH17')\", \"('COINBASE', 'PUSH15')\", \"('PUSH15', 'DELEGATECALL')\", \"('DELEGATECALL', 'PUSH11')\", \"('PUSH13', 'TIMESTAMP')\", \"('TIMESTAMP', 'SIGNEXTEND')\", \"('CALLVALUE', 'STOP')\", \"('STOP', 'ADDRESS')\", \"('ADDRESS', 'PUSH1')\", \"('JUMPDEST', 'PUSH20')\", \"('BALANCE', 'PUSH29')\", \"('PUSH29', 'PUSH1')\", \"('PUSH10', 'LOG3')\", \"('PUSH15', 'SHA3')\", \"('JUMPDEST', 'PUSH21')\", \"('MSTORE', 'PUSH26')\", \"('PUSH3', 'INVALID')\", \"('DELEGATECALL', 'SMOD')\", \"('XOR', 'PUSH10')\", \"('SWAP13', 'EXTCODESIZE')\", \"('PUSH1', 'SSTORE')\", \"('SSTORE', 'JUMP')\", \"('SUB', 'GT')\", \"('SWAP1', 'LT')\", \"('GT', 'PUSH2')\", \"('DUP9', 'LOG2')\", \"('SWAP11', 'MLOAD')\", \"('SWAP9', 'SWAP2')\", \"('SLT', 'STOP')\", \"('JUMPDEST', 'INVALID')\", \"('RETURNDATASIZE', 'LOG3')\", \"('PUSH3', 'PUSH15')\", \"('DUP15', 'REVERT')\", \"('CALLVALUE', 'BYTE')\", \"('SWAP16', 'ADDRESS')\", \"('SWAP16', 'RETURN')\", \"('PUSH2', 'ADDRESS')\", \"('CALLER', 'DUP1')\", \"('JUMPDEST', 'BALANCE')\", \"('STOP', 'PUSH9')\", \"('PUSH9', 'JUMPI')\", \"('PUSH8', 'PUSH17')\", \"('PUSH11', 'ADDMOD')\", \"('PUSH1', 'DUP4')\", \"('DUP4', 'JUMPI')\", \"('SUB', 'DUP15')\", \"('DUP15', 'PUSH17')\", \"('POP', 'JUMP')\", \"('CALLDATACOPY', 'MSIZE')\", \"('INVALID', 'CALLVALUE')\", \"('NOT', 'ADD')\", \"('INVALID', 'DUP4')\", \"('DUP6', 'DUP1')\", \"('DUP9', 'ISZERO')\", \"('LOG1', 'PUSH23')\", \"('DUP13', 'ADDRESS')\", \"('DUP9', 'BYTE')\", \"('CALLDATALOAD', 'REVERT')\", \"('REVERT', 'EXTCODESIZE')\", \"('INVALID', 'PUSH29')\", \"('PUSH1', 'PUSH29')\", \"('REVERT', 'JUMP')\", \"('SWAP6', 'DUP7')\", \"('PUSH7', 'NOT')\", \"('PUSH7', 'PUSH17')\", \"('LOG0', 'LOG3')\", \"('INVALID', 'TIMESTAMP')\", \"('PC', 'SWAP16')\", \"('RETURN', 'MOD')\", \"('SGT', 'EXTCODESIZE')\", \"('MULMOD', 'PUSH6')\", \"('REVERT', 'BYTE')\", \"('DUP1', 'PUSH25')\", \"('CALLVALUE', 'INVALID')\", \"('SWAP4', 'DUP1')\", \"('GT', 'SWAP3')\", \"('EXTCODESIZE', 'REVERT')\", \"('DIV', 'PUSH27')\", \"('PUSH12', 'SWAP2')\", \"('DIV', 'SHA3')\", \"('PUSH1', 'PUSH30')\", \"('INVALID', 'PUSH12')\", \"('MOD', 'CODECOPY')\", \"('DUP16', 'SWAP4')\", \"('ISZERO', 'INVALID')\", \"('PUSH17', 'SWAP8')\", \"('SWAP15', 'RETURNDATASIZE')\", \"('DUP16', 'SWAP16')\", \"('PUSH20', 'DUP5')\", \"('COINBASE', 'PUSH2')\", \"('PUSH2', 'SWAP3')\", \"('PUSH16', 'MSTORE')\", \"('DIV', 'PUSH3')\", \"('CALLDATASIZE', 'GT')\", \"('SUB', 'PUSH29')\", \"('GAS', 'STATICCALL')\", \"('PUSH13', 'SWAP2')\", \"('LOG0', 'RETURNDATASIZE')\", \"('REVERT', 'EQ')\", \"('INVALID', 'SWAP2')\", \"('SMOD', 'DUP4')\", \"('PUSH3', 'EXTCODECOPY')\", \"('POP', 'BLOCKHASH')\", \"('ADD', 'PUSH20')\", \"('REVERT', 'MSTORE')\", \"('SWAP4', 'XOR')\", \"('SWAP3', 'PUSH32')\", \"('LOG2', 'STATICCALL')\", \"('DUP6', 'MUL')\", \"('MSIZE', 'ADD')\", \"('DELEGATECALL', 'DUP4')\", \"('DELEGATECALL', 'INVALID')\", \"('PUSH3', 'STOP')\", \"('INVALID', 'ISZERO')\", \"('DUP9', 'EXTCODESIZE')\", \"('SWAP12', 'REVERT')\", \"('PUSH28', 'TIMESTAMP')\", \"('PUSH9', 'JUMPDEST')\", \"('ADD', 'PUSH31')\", \"('MULMOD', 'LOG3')\", \"('DUP6', 'PUSH22')\", \"('REVERT', 'MSIZE')\", \"('MULMOD', 'PUSH25')\", \"('DIFFICULTY', 'JUMPDEST')\", \"('BYTE', 'REVERT')\", \"('CALLDATASIZE', 'PUSH30')\", \"('RETURNDATACOPY', 'LOG1')\", \"('LOG3', 'JUMPDEST')\", \"('REVERT', 'SWAP10')\", \"('PUSH17', 'PUSH31')\", \"('PUSH28', 'BALANCE')\", \"('PUSH9', 'PUSH25')\", \"('PUSH1', 'EQ')\", \"('SWAP12', 'CALLDATACOPY')\", \"('PUSH28', 'SWAP2')\", \"('MSIZE', 'GT')\", \"('GT', 'STATICCALL')\", \"('PUSH7', 'ISZERO')\", \"('PUSH2', 'REVERT')\", \"('REVERT', 'SWAP2')\", \"('SWAP4', 'ADDRESS')\", \"('PUSH3', 'RETURN')\", \"('MSTORE', 'RETURN')\", \"('DUP8', 'PUSH20')\", \"('GASPRICE', 'SWAP7')\", \"('EXP', 'PUSH24')\", \"('SWAP14', 'PUSH7')\", \"('JUMP', 'EXP')\", \"('JUMPDEST', 'MSTORE')\", \"('GASPRICE', 'LOG1')\", \"('DUP3', 'CALLVALUE')\", \"('DELEGATECALL', 'ADDMOD')\", \"('PUSH28', 'PUSH27')\", \"('RETURNDATACOPY', 'CODECOPY')\", \"('PUSH17', 'PUSH29')\", \"('LOG4', 'DUP8')\", \"('DUP6', 'PUSH4')\", \"('SLT', 'SDIV')\", \"('DUP13', 'STOP')\", \"('REVERT', 'CALLDATALOAD')\", \"('PUSH20', 'SUB')\", \"('PUSH15', 'PC')\", \"('CALLER', 'JUMPI')\", \"('SWAP12', 'BYTE')\", \"('EXTCODESIZE', 'BYTE')\", \"('XOR', 'DUP12')\", \"('MULMOD', 'DUP14')\", \"('ADD', 'MSTORE')\", \"('DUP4', 'DUP10')\", \"('PUSH7', 'PUSH29')\", \"('PUSH7', 'GT')\", \"('PUSH7', 'MSTORE')\", \"('GT', 'DUP4')\", \"('DUP4', 'DUP9')\", \"('PUSH7', 'ADD')\", \"('SWAP11', 'SMOD')\", \"('ADD', 'PUSH2')\", \"('SWAP14', 'CALLDATALOAD')\", \"('SWAP5', 'SGT')\", \"('DUP9', 'MSIZE')\", \"('SWAP4', 'MULMOD')\", \"('SWAP7', 'PUSH9')\", \"('RETURN', 'SWAP7')\", \"('CALLDATASIZE', 'ADD')\", \"('RETURNDATACOPY', 'JUMPI')\", \"('JUMPI', 'LOG3')\", \"('REVERT', 'CALLDATACOPY')\", \"('CALLDATASIZE', 'EXP')\", \"('LOG2', 'MSTORE')\", \"('JUMPI', 'PUSH19')\", \"('CALLDATASIZE', 'CALLDATACOPY')\", \"('CALLDATACOPY', 'RETURNDATASIZE')\", \"('RETURNDATASIZE', 'MSTORE')\", \"('DUP2', 'RETURNDATACOPY')\", \"('RETURNDATACOPY', 'CALLVALUE')\", \"('DUP5', 'GAS')\", \"('CALLDATASIZE', 'NOT')\", \"('JUMP', 'PUSH17')\", \"('PUSH17', 'PUSH8')\", \"('STOP', 'CALLER')\", \"('CALLER', 'INVALID')\", \"('INVALID', 'GT')\", \"('DUP13', 'SLT')\", \"('MLOAD', 'PUSH19')\", \"('DUP13', 'RETURN')\", \"('RETURNDATACOPY', 'SWAP7')\", \"('PUSH4', 'RETURNDATASIZE')\", \"('MSIZE', 'PUSH29')\", \"('STOP', 'RETURNDATACOPY')\", \"('PUSH20', 'CALLDATACOPY')\", \"('SUB', 'CALLDATALOAD')\", \"('CALLDATALOAD', 'SWAP14')\", \"('REVERT', 'DUP1')\", \"('REVERT', 'PUSH31')\", \"('SMOD', 'INVALID')\", \"('DELEGATECALL', 'PUSH32')\", \"('EQ', 'GAS')\", \"('INVALID', 'LT')\", \"('MLOAD', 'ORIGIN')\", \"('SDIV', 'DUP12')\", \"('PUSH1', 'MLOAD')\", \"('DUP16', 'RETURN')\", \"('PUSH19', 'SMOD')\", \"('PUSH25', 'MUL')\", \"('JUMPDEST', 'NUMBER')\", \"('CALLDATALOAD', 'CALLDATASIZE')\", \"('GAS', 'ADD')\", \"('CALLDATASIZE', 'CALLER')\", \"('EQ', 'PUSH1')\", \"('SSTORE', 'SMOD')\", \"('LOG2', 'SMOD')\", \"('DUP16', 'SLT')\", \"('RETURN', 'RETURNDATACOPY')\", \"('CALLDATASIZE', 'REVERT')\", \"('REVERT', 'ISZERO')\", \"('STATICCALL', 'MSTORE')\", \"('DELEGATECALL', 'SWAP1')\", \"('JUMPI', 'JUMPDEST')\", \"('SSTORE', 'PUSH2')\", \"('ISZERO', 'GASLIMIT')\", \"('GASLIMIT', 'GAS')\", \"('ISZERO', 'GASPRICE')\", \"('GASPRICE', 'GAS')\", \"('CALLER', 'PUSH20')\", \"('SWAP2', 'SWAP1')\", \"('DUP3', 'PUSH29')\", \"('SWAP12', 'JUMP')\", \"('SWAP16', 'CODECOPY')\", \"('GAS', 'MLOAD')\", \"('ADDRESS', 'PUSH5')\", \"('PUSH19', 'ADDMOD')\", \"('CODESIZE', 'PUSH4')\", \"('DUP13', 'PUSH4')\", \"('PUSH20', 'DUP8')\", \"('PUSH19', 'PUSH15')\", \"('PUSH15', 'PUSH3')\", \"('SUB', 'PUSH31')\", \"('CALLVALUE', 'BALANCE')\", \"('LT', 'PUSH4')\", \"('EXTCODESIZE', 'CALLDATASIZE')\", \"('STOP', 'GAS')\", \"('STOP', 'PUSH22')\", \"('STATICCALL', 'GAS')\", \"('PUSH20', 'REVERT')\", \"('DUP5', 'LOG4')\", \"('LOG4', 'POP')\", \"('SHA3', 'POP')\", \"('ISZERO', 'AND')\", \"('PUSH19', 'DUP9')\", \"('CALLER', 'SDIV')\", \"('SDIV', 'OR')\", \"('SWAP9', 'CALLCODE')\", \"('PUSH3', 'SWAP2')\", \"('PUSH19', 'ORIGIN')\", \"('LOG2', 'JUMP')\", \"('EXP', 'NUMBER')\"]\n",
      "['1', '1', '1', '1', '1', '1', '1', '1', '1', '1', '0', '0', '0', '0', '0', '0', '0', '0', '0', '0', '0', '0', '0', '0', '0', '0', '0', '0', '0', '0', '0', '0', '0', '0', '0', '0', '0', '0', '0', '0', '0', '0', '0', '0', '0', '0', '0', '0', '0', '0', '0', '0', '0', '0', '0', '0', '0', '0', '0', '0', '0', '0', '0', '0', '0', '0', '0', '0', '0', '0', '0', '0', '0', '0', '0', '0', '0', '0', '0', '0', '0', '0', '0', '0', '0', '0', '0', '0', '0', '0', '0', '0', '0', '0', '0', '0', '0', '0', '0', '0', '0', '0', '0', '0', '0', '0', '0', '0', '0', '0', '0', '0', '0', '0', '0', '0', '0', '0', '0', '0', '0', '0', '0', '0', '0', '0', '0', '0', '0', '0', '0', '0', '0', '0', '0', '0', '0', '0', '0', '0', '0', '0', '0', '0', '0', '0', '0', '0', '0', '0', '0', '0', '0', '0', '0', '0', '0', '0', '0', '0', '0', '0', '0', '0', '0', '0', '0', '0', '0', '0', '0', '0', '0', '0', '0', '0', '0', '0', '0', '0', '0', '0', '0', '0', '0', '0', '0', '0', '0', '0', '0', '0', '0', '0', '0', '0', '0', '0', '0', '0', '0', '0', '0', '0', '0', '0', '0', '0', '0', '0', '0', '0', '0', '0', '0', '0', '0', '0', '0', '0', '0', '0', '0', '0', '0', '0', '0', '0', '0', '0', '0', '0', '0', '0', '0', '0', '0', '0', '0', '0', '0', '0', '0', '0', '0', '0', '0', '0', '0', '0', '0', '0', '0', '0', '0', '0', '0', '0', '0', '0', '0', '0', '0', '0', '0', '0', '0', '0', '0', '0', '0', '0', '0', '0', '0', '0', '0', '0', '0', '0', '0', '0', '0', '0', '0', '0', '0', '0', '0', '0', '0', '0', '0', '0', '0', '0', '0', '0', '0', '0', '0', '0', '0', '0', '0', '0', '0', '0', '0', '0', '0', '0', '0', '0', '0', '0', '0', '0', '0', '0', '0', '0', '0', '0', '0', '0', '0', '0', '0', '0', '0', '0', '0', '0', '0', '0', '0', '0', '0', '0', '0', '0', '0', '0', '0', '0', '0', '0', '0', '0', '0', '0', '0', '0', '0', '0', '0', '0', '0', '0', '0', '0', '0', '0', '0', '0', '0', '0', '0', '0', '0', '0', '0', '0', '0', '0', '0', '0', '0', '0', '0', '0', '0', '0', '0', '0', '0', '0', '0', '0', '0', '0', '0', '0', '0', '0', '0', '0', '0', '0', '0', '0', '0', '0', '0', '0', '0', '0', '0', '0', '0', '0', '0', '0', '0', '0', '0', '0', '0', '0', '0', '0', '0', '0', '0', '0', '0', '0', '0', '0', '0', '0', '0', '0', '0', '0', '0', '0', '0', '0', '0', '0', '0', '0', '0', '0', '0', '0', '0', '0', '0', '0', '0', '0', '0', '0', '0', '0', '0', '0', '0', '0', '0', '0', '0', '0', '0', '0', '0', '0', '0', '0', '0', '0', '0', '0', '0', '0', '0', '0', '0', '0', '0', '0', '0', '0', '0', '0', '0', '0', '0', '0', '0', '0', '0', '0', '0', '0', '0', '0', '0', '0', '0', '0', '0', '0', '0', '0', '0', '0', '0', '0', '0', '0', '0', '0', '0', '0', '0', '0', '0', '0', '0', '0', '0', '0', '0', '0', '0', '0', '0', '0', '0', '0', '0', '0', '0', '0', '0', '0', '0', '0', '0', '0', '0', '0', '0', '0', '0', '0', '0', '0', '0', '0', '0', '0', '0', '0', '0', '0', '0', '0', '0', '0', '0', '0', '0', '0', '0', '0', '0', '0', '0', '0', '0', '0', '0', '0', '0', '0', '0', '0', '0', '0', '0', '0', '0', '0', '0', '0', '0', '0', '0', '0', '0', '0', '0', '0', '0', '0', '0', '0', '0', '0', '0', '0', '0', '0', '0', '0', '0', '0', '0', '0', '0', '0', '0', '0', '0', '0', '0', '0', '0', '0', '0', '0', '0', '0', '0', '0', '0', '0', '0', '0', '0', '0', '0', '0', '0', '0', '0', '0', '0', '0', '0', '0', '0', '0', '0', '0', '0', '0', '0', '0', '0', '0', '0', '0', '0', '0', '0', '0', '0', '0', '0', '0', '0', '0', '0', '0', '0', '0', '0', '0', '0', '0', '0', '0', '0', '0', '0', '0', '0', '0', '0', '0', '0', '0', '0', '0', '0', '0', '0', '0', '0', '0', '0', '0', '0', '0', '0', '0', '0', '0', '0', '0', '0', '0', '0', '0', '0', '0', '0', '0', '0', '0', '0', '0', '0', '0', '0', '0', '0', '0', '0', '0', '0', '0', '0', '0', '0', '0', '0', '0', '0', '0', '0', '0', '0', '0', '0', '0', '0', '0', '0', '0', '0', '0', '0', '0', '0', '0', '0', '0', '0', '0', '0', '0', '0', '0', '0', '0', '0', '0', '0', '0', '0', '0', '0', '0', '0', '0', '0', '0', '0', '0', '0', '0', '0', '0', '0', '0', '0', '0', '0', '0', '0', '0', '0', '0', '0', '0', '0', '0', '0', '0', '0', '0', '0', '0', '0', '0', '0', '0', '0', '0', '0', '0', '0', '0', '0', '0', '0', '0', '0', '0', '0', '0', '0', '0', '0', '0', '0', '0', '0', '0', '0', '0', '0', '0', '0', '0', '0', '0', '0', '0', '0', '0', '0', '0', '0', '0', '0', '0', '0', '0', '0', '0', '0', '0', '0', '0', '0', '0', '0', '0', '0', '0', '0', '0', '0', '0', '0', '0', '0', '0', '0', '0', '0', '0', '0', '0', '0', '0', '0', '0', '0', '0', '0', '0', '0', '0', '0', '0', '0', '0', '0', '0', '0', '0', '0', '0', '0', '0', '0', '0', '0', '0', '0', '0', '0', '0', '0', '0', '0', '0', '0', '0', '0', '0', '0', '0', '0', '0', '0', '0', '0', '0', '0', '0', '0', '0', '0', '0', '0', '0', '0', '0', '0', '0', '0', '0', '0', '0', '0', '0', '0', '0', '0', '0', '0', '0', '0', '0', '0', '0', '0', '0', '0', '0', '0', '0', '0', '0', '0', '0', '0', '0', '0', '0', '0', '0', '0', '0', '0', '0', '0', '0', '0', '0', '0', '0', '0', '0', '0', '0', '0', '0', '0', '0', '0', '0', '0', '0', '0', '0', '0', '0', '0', '0', '0', '0', '0', '0', '0', '0', '0', '0', '0', '0', '0', '0', '0', '0', '0', '0', '0', '0', '0', '0', '0', '0', '0', '0', '0', '0', '0', '0', '0', '0', '0', '0', '0', '0', '0', '0', '0', '0', '0', '0', '0', '0', '0', '0', '0', '0', '0', '0', '0', '0', '0', '0', '0', '0', '0', '0', '0', '0', '0', '0', '0', '0', '0', '0', '0', '0', '0', '0', '0', '0', '0', '0', '0', '0', '0', '0', '0', '0', '0', '0', '0', '0', '0', '0', '0', '0', '0', '0', '0', '0', '0', '0', '0', '0', '0', '0', '0', '0', '0', '0', '0', '0', '0', '0', '0', '0', '0', '0', '0', '0', '0', '0', '0', '0', '0', '0', '0', '0', '0', '0', '0', '0', '0', '0', '0', '0', '0', '0', '0', '0', '0', '0', '0', '0', '0', '0', '0', '0', '0', '0', '0', '0', '0', '0', '0', '0', '0', '0', '0', '0', '0', '0', '0', '0', '0', '0', '0', '0', '0', '0', '0', '0', '0', '0', '0', '0', '0', '0', '0', '0', '0', '0', '0', '0', '0', '0', '0', '0', '0', '0', '0', '0', '0', '0', '0', '0', '0', '0', '0', '0', '0', '0', '0', '0', '0', '0', '0', '0', '0', '0', '0', '0', '0', '0', '0', '0', '0', '0', '0', '0', '0', '0', '0', '0', '0', '0', '0', '0', '0', '0', '0', '0', '0', '0', '0', '0', '0', '0', '0', '0', '0', '0', '0', '0', '0', '0', '0', '0', '0', '0', '0', '0', '0', '0', '0', '0', '0', '0', '0', '0', '0', '0', '0', '0', '0', '0', '0', '0', '0', '0', '0', '0', '0', '0', '0', '0', '0', '0', '0', '0', '0', '0', '0', '0', '0', '0', '0', '0', '0', '0', '0', '0', '0', '0', '0', '0', '0', '0', '0', '0', '0', '0', '0', '0', '0', '0', '0', '0', '0', '0', '0', '0', '0', '0', '0', '0', '0', '0', '0', '0', '0', '0', '0', '0', '0', '0', '0', '0', '0', '0', '0', '0', '0', '0', '0', '0', '0', '0', '0', '0', '0', '0', '0', '0', '0', '0', '0', '0', '0', '0', '0', '0', '0', '0', '0', '0', '0', '0', '0', '0', '0', '0', '0', '0', '0', '0', '0', '0', '0', '0', '0', '0', '0', '0', '0', '0', '0', '0', '0', '0', '0', '0', '0', '0', '0', '0', '0', '0', '0', '0', '0', '0', '0', '0', '0', '0', '0', '0', '0', '0', '0', '0', '0', '0', '0', '0', '0', '0', '0', '0', '0', '0', '0', '0', '0', '0', '0', '0', '0', '0', '0', '0', '0', '0', '0', '0', '0', '0', '0', '0', '0', '0', '0', '0', '0', '0', '0', '0', '0', '0', '0', '0', '0', '0', '0', '0', '0', '0', '0', '0', '0', '0', '0', '0', '0', '0', '0', '0', '0', '0', '0', '0', '0', '0', '0', '0', '0', '0', '0', '0', '0', '0', '0', '0', '0', '0', '0']\n",
      "['0', '0', '1', '0', '0', '0', '0', '0', '0', '0', '1', '1', '1', '1', '1', '1', '1', '1', '1', '1', '1', '1', '1', '1', '1', '1', '1', '1', '1', '1', '1', '1', '1', '1', '1', '1', '1', '1', '1', '1', '1', '1', '1', '1', '1', '1', '1', '1', '1', '1', '1', '1', '1', '1', '1', '0', '0', '0', '0', '0', '0', '0', '0', '0', '0', '0', '0', '0', '0', '0', '0', '0', '0', '0', '0', '0', '0', '0', '0', '0', '0', '0', '0', '0', '0', '0', '0', '0', '0', '0', '0', '0', '0', '0', '0', '0', '0', '0', '0', '0', '0', '0', '0', '0', '0', '0', '0', '0', '0', '0', '0', '0', '0', '0', '0', '0', '0', '0', '0', '0', '0', '0', '0', '0', '0', '0', '0', '0', '0', '0', '0', '0', '0', '0', '0', '0', '0', '0', '0', '0', '0', '0', '0', '0', '0', '0', '0', '0', '0', '0', '0', '0', '0', '0', '0', '0', '0', '0', '0', '0', '0', '0', '0', '0', '0', '0', '0', '0', '0', '0', '0', '0', '0', '0', '0', '0', '0', '0', '0', '0', '0', '0', '0', '0', '0', '0', '0', '0', '0', '0', '0', '0', '0', '0', '0', '0', '0', '0', '0', '0', '0', '0', '0', '0', '0', '0', '0', '0', '0', '0', '0', '0', '0', '0', '0', '0', '0', '0', '0', '0', '0', '0', '0', '0', '0', '0', '0', '0', '0', '0', '0', '0', '0', '0', '0', '0', '0', '0', '0', '0', '0', '0', '0', '0', '0', '0', '0', '0', '0', '0', '0', '0', '0', '0', '0', '0', '0', '0', '0', '0', '0', '0', '0', '0', '0', '0', '0', '0', '0', '0', '0', '0', '0', '0', '0', '0', '0', '0', '0', '0', '0', '0', '0', '0', '0', '0', '0', '0', '0', '0', '0', '0', '0', '0', '0', '0', '0', '0', '0', '0', '0', '0', '0', '0', '0', '0', '0', '0', '0', '0', '0', '0', '0', '0', '0', '0', '0', '0', '0', '0', '0', '0', '0', '0', '0', '0', '0', '0', '0', '0', '0', '0', '0', '0', '0', '0', '0', '0', '0', '0', '0', '0', '0', '0', '0', '0', '0', '0', '0', '0', '0', '0', '0', '0', '0', '0', '0', '0', '0', '0', '0', '0', '0', '0', '0', '0', '0', '0', '0', '0', '0', '0', '0', '0', '0', '0', '0', '0', '0', '0', '0', '0', '0', '0', '0', '0', '0', '0', '0', '0', '0', '0', '0', '0', '0', '0', '0', '0', '0', '0', '0', '0', '0', '0', '0', '0', '0', '0', '0', '0', '0', '0', '0', '0', '0', '0', '0', '0', '0', '0', '0', '0', '0', '0', '0', '0', '0', '0', '0', '0', '0', '0', '0', '0', '0', '0', '0', '0', '0', '0', '0', '0', '0', '0', '0', '0', '0', '0', '0', '0', '0', '0', '0', '0', '0', '0', '0', '0', '0', '0', '0', '0', '0', '0', '0', '0', '0', '0', '0', '0', '0', '0', '0', '0', '0', '0', '0', '0', '0', '0', '0', '0', '0', '0', '0', '0', '0', '0', '0', '0', '0', '0', '0', '0', '0', '0', '0', '0', '0', '0', '0', '0', '0', '0', '0', '0', '0', '0', '0', '0', '0', '0', '0', '0', '0', '0', '0', '0', '0', '0', '0', '0', '0', '0', '0', '0', '0', '0', '0', '0', '0', '0', '0', '0', '0', '0', '0', '0', '0', '0', '0', '0', '0', '0', '0', '0', '0', '0', '0', '0', '0', '0', '0', '0', '0', '0', '0', '0', '0', '0', '0', '0', '0', '0', '0', '0', '0', '0', '0', '0', '0', '0', '0', '0', '0', '0', '0', '0', '0', '0', '0', '0', '0', '0', '0', '0', '0', '0', '0', '0', '0', '0', '0', '0', '0', '0', '0', '0', '0', '0', '0', '0', '0', '0', '0', '0', '0', '0', '0', '0', '0', '0', '0', '0', '0', '0', '0', '0', '0', '0', '0', '0', '0', '0', '0', '0', '0', '0', '0', '0', '0', '0', '0', '0', '0', '0', '0', '0', '0', '0', '0', '0', '0', '0', '0', '0', '0', '0', '0', '0', '0', '0', '0', '0', '0', '0', '0', '0', '0', '0', '0', '0', '0', '0', '0', '0', '0', '0', '0', '0', '0', '0', '0', '0', '0', '0', '0', '0', '0', '0', '0', '0', '0', '0', '0', '0', '0', '0', '0', '0', '0', '0', '0', '0', '0', '0', '0', '0', '0', '0', '0', '0', '0', '0', '0', '0', '0', '0', '0', '0', '0', '0', '0', '0', '0', '0', '0', '0', '0', '0', '0', '0', '0', '0', '0', '0', '0', '0', '0', '0', '0', '0', '0', '0', '0', '0', '0', '0', '0', '0', '0', '0', '0', '0', '0', '0', '0', '0', '0', '0', '0', '0', '0', '0', '0', '0', '0', '0', '0', '0', '0', '0', '0', '0', '0', '0', '0', '0', '0', '0', '0', '0', '0', '0', '0', '0', '0', '0', '0', '0', '0', '0', '0', '0', '0', '0', '0', '0', '0', '0', '0', '0', '0', '0', '0', '0', '0', '0', '0', '0', '0', '0', '0', '0', '0', '0', '0', '0', '0', '0', '0', '0', '0', '0', '0', '0', '0', '0', '0', '0', '0', '0', '0', '0', '0', '0', '0', '0', '0', '0', '0', '0', '0', '0', '0', '0', '0', '0', '0', '0', '0', '0', '0', '0', '0', '0', '0', '0', '0', '0', '0', '0', '0', '0', '0', '0', '0', '0', '0', '0', '0', '0', '0', '0', '0', '0', '0', '0', '0', '0', '0', '0', '0', '0', '0', '0', '0', '0', '0', '0', '0', '0', '0', '0', '0', '0', '0', '0', '0', '0', '0', '0', '0', '0', '0', '0', '0', '0', '0', '0', '0', '0', '0', '0', '0', '0', '0', '0', '0', '0', '0', '0', '0', '0', '0', '0', '0', '0', '0', '0', '0', '0', '0', '0', '0', '0', '0', '0', '0', '0', '0', '0', '0', '0', '0', '0', '0', '0', '0', '0', '0', '0', '0', '0', '0', '0', '0', '0', '0', '0', '0', '0', '0', '0', '0', '0', '0', '0', '0', '0', '0', '0', '0', '0', '0', '0', '0', '0', '0', '0', '0', '0', '0', '0', '0', '0', '0', '0', '0', '0', '0', '0', '0', '0', '0', '0', '0', '0', '0', '0', '0', '0', '0', '0', '0', '0', '0', '0', '0', '0', '0', '0', '0', '0', '0', '0', '0', '0', '0', '0', '0', '0', '0', '0', '0', '0', '0', '0', '0', '0', '0', '0', '0', '0', '0', '0', '0', '0', '0', '0', '0', '0', '0', '0', '0', '0', '0', '0', '0', '0', '0', '0', '0', '0', '0', '0', '0', '0', '0', '0', '0', '0', '0', '0', '0', '0', '0', '0', '0', '0', '0', '0', '0', '0', '0', '0', '0', '0', '0', '0', '0', '0', '0', '0', '0', '0', '0', '0', '0', '0', '0', '0', '0', '0', '0', '0', '0', '0', '0', '0', '0', '0', '0', '0', '0', '0', '0', '0', '0', '0', '0', '0', '0', '0', '0', '0', '0', '0', '0', '0', '0', '0', '0', '0', '0', '0', '0', '0', '0', '0', '0', '0', '0', '0', '0', '0', '0', '0', '0', '0', '0', '0', '0', '0', '0', '0', '0', '0', '0', '0', '0', '0', '0', '0', '0', '0', '0', '0', '0', '0', '0', '0', '0', '0', '0', '0', '0', '0', '0', '0', '0', '0', '0', '0', '0', '0', '0', '0', '0', '0', '0', '0', '0', '0', '0', '0', '0', '0', '0', '0', '0', '0', '0', '0', '0', '0', '0', '0', '0', '0', '0', '0', '0', '0', '0', '0', '0', '0', '0', '0', '0', '0', '0', '0', '0', '0', '0', '0', '0', '0', '0', '0', '0', '0', '0', '0', '0', '0', '0', '0', '0', '0', '0', '0', '0', '0', '0', '0', '0', '0', '0', '0', '0', '0', '0', '0', '0', '0', '0', '0', '0', '0', '0', '0', '0', '0', '0', '0', '0', '0', '0', '0', '0', '0', '0', '0', '0', '0', '0', '0', '0', '0', '0', '0', '0', '0', '0', '0', '0', '0', '0', '0', '0', '0', '0', '0', '0', '0', '0', '0', '0', '0', '0', '0', '0', '0', '0', '0', '0', '0', '0', '0', '0', '0', '0', '0', '0', '0', '0', '0', '0', '0', '0', '0', '0', '0', '0', '0', '0', '0', '0', '0', '0', '0', '0', '0', '0', '0', '0', '0', '0', '0', '0', '0', '0', '0', '0', '0', '0', '0', '0', '0', '0', '0', '0', '0', '0', '0', '0', '0', '0', '0', '0', '0', '0', '0', '0', '0', '0', '0', '0', '0', '0', '0', '0', '0', '0', '0', '0', '0', '0', '0', '0', '0', '0', '0', '0', '0', '0', '0', '0', '0', '0', '0', '0', '0', '0', '0', '0', '0', '0', '0', '0', '0', '0', '0', '0', '0', '0', '0', '0', '0', '0', '0', '0', '0', '0', '0', '0', '0', '0', '0', '0', '0', '0', '0', '0', '0', '0', '0', '0', '0', '0', '0', '0', '0', '0', '0', '0', '0', '0', '0', '0', '0', '0', '0', '0', '0', '0', '0', '0', '0', '0', '0', '0', '0', '0', '0', '0', '0', '0', '0', '0', '0', '0', '0', '0', '0', '0', '0', '0', '0', '0', '0', '0', '0', '0']\n"
     ]
    }
   ],
   "source": [
    "import csv\n",
    "afile = open(\"/Users/ravishaggarwal/Desktop/unigrams_and_bigrams.csv\", 'r+')\n",
    "csvReader1 = csv.reader(afile)\n",
    "for i in range(3):\n",
    "    print (csvReader1.__next__())"
   ]
  },
  {
   "cell_type": "code",
   "execution_count": null,
   "metadata": {
    "collapsed": true
   },
   "outputs": [],
   "source": []
  }
 ],
 "metadata": {
  "kernelspec": {
   "display_name": "Python 3",
   "language": "python",
   "name": "python3"
  },
  "language_info": {
   "codemirror_mode": {
    "name": "ipython",
    "version": 3
   },
   "file_extension": ".py",
   "mimetype": "text/x-python",
   "name": "python",
   "nbconvert_exporter": "python",
   "pygments_lexer": "ipython3",
   "version": "3.6.3"
  }
 },
 "nbformat": 4,
 "nbformat_minor": 2
}
